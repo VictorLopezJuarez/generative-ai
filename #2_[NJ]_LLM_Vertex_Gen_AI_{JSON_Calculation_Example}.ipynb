{
  "nbformat": 4,
  "nbformat_minor": 0,
  "metadata": {
    "colab": {
      "provenance": [],
      "collapsed_sections": [
        "fT-PEIcts5iq"
      ]
    },
    "kernelspec": {
      "name": "python3",
      "display_name": "Python 3"
    },
    "language_info": {
      "name": "python"
    }
  },
  "cells": [
    {
      "cell_type": "markdown",
      "source": [
        "# Authorization"
      ],
      "metadata": {
        "id": "fT-PEIcts5iq"
      }
    },
    {
      "cell_type": "markdown",
      "source": [
        "https://cloud.google.com/vertex-ai/docs/generative-ai/models/tune-models\n",
        "\n",
        "\n",
        "https://github.com/GoogleCloudPlatform/python-docs-samples/tree/ecd48fab644676be7bcf86d2ffd8ead58b8f0e3f/generative_ai\n"
      ],
      "metadata": {
        "id": "9nQhqZVWPSOQ"
      }
    },
    {
      "cell_type": "markdown",
      "source": [
        "# Installing the package"
      ],
      "metadata": {
        "id": "40xdBGbjFoeG"
      }
    },
    {
      "cell_type": "code",
      "source": [
        "!pip install --quiet google-cloud-aiplatform --upgrade --user"
      ],
      "metadata": {
        "id": "i5lKqVT_On34",
        "colab": {
          "base_uri": "https://localhost:8080/"
        },
        "outputId": "61af3ffc-c450-4943-d4e7-765f446c46f2"
      },
      "execution_count": 1,
      "outputs": [
        {
          "output_type": "stream",
          "name": "stdout",
          "text": [
            "\u001b[33m  WARNING: The script tb-gcp-uploader is installed in '/root/.local/bin' which is not on PATH.\n",
            "  Consider adding this directory to PATH or, if you prefer to suppress this warning, use --no-warn-script-location.\u001b[0m\u001b[33m\n",
            "\u001b[0m"
          ]
        }
      ]
    },
    {
      "cell_type": "markdown",
      "source": [
        "# ! ^^^^ Do not forget to click the \"Restart runtime\" button above."
      ],
      "metadata": {
        "id": "g3jhntJ0KUzq"
      }
    },
    {
      "cell_type": "code",
      "source": [
        "from google.colab import auth as google_auth\n",
        "google_auth.authenticate_user()"
      ],
      "metadata": {
        "id": "nhOgiE9mKTT2"
      },
      "execution_count": 12,
      "outputs": []
    },
    {
      "cell_type": "code",
      "source": [
        "PROJECT_ID = \"<provide a project id>\" # @param {type:\"string\"}\n",
        "LOCATION = \"us-central1\"  # @param {type:\"string\"}"
      ],
      "metadata": {
        "id": "PquoDfoXFV3J"
      },
      "execution_count": 13,
      "outputs": []
    },
    {
      "cell_type": "code",
      "source": [
        "from google.cloud import aiplatform\n",
        "aiplatform.init(project=PROJECT_ID, location=LOCATION)"
      ],
      "metadata": {
        "id": "W-XFFz0BP6vw"
      },
      "execution_count": 14,
      "outputs": []
    },
    {
      "cell_type": "code",
      "source": [
        "from vertexai.preview.language_models import TextGenerationModel, TextEmbeddingModel, CodeGenerationModel\n",
        "model = TextGenerationModel.from_pretrained(\"text-bison@001\")"
      ],
      "metadata": {
        "id": "hZEVi6yVmnNn"
      },
      "execution_count": 15,
      "outputs": []
    },
    {
      "cell_type": "code",
      "source": [
        "\n",
        "def predict_large_language_model_sample(\n",
        "    prompt: str\n",
        "\n",
        "    ) :\n",
        "    \"\"\"Predict using a Large Language Model.\"\"\"\n",
        "    example = ''' Extract all information as JSON:\n",
        "                  input: calculate interest and total amount paid on a Loan Principal of $32,000 over 10 years,\n",
        "                  with an interest rate of 5 % per annum.\n",
        "\n",
        "                  This quote is being prepared for the following customer details\n",
        "                  customer: John Doe\n",
        "                  Address: 52 west street, Columbus, Ohio, 43215\n",
        "                  Phone: 543-201-0100\n",
        "\n",
        "                  output: {\"customer\": \"John Doe\",\n",
        "                  \"Address\": \"52 west street\",\n",
        "                  \"City\": \"Columbus\",\n",
        "                  \"State\": \"Ohio\",\n",
        "                  \"Zip\":  \"43215\",\n",
        "                  \"Phone\": \"543-201-0100\",\n",
        "                  \"Loan Amount\": \"$32,000\",\n",
        "                  \"Term\": \"10 years\",\n", 
        "                  \"Interest Rate\": \"5%\",\n",
        "                  \"Total Interest\": \"$16000\",\n",
        "                  \"Total Amount to be paid\": \"$48000\",\n",
        "                  }\n",
        "\n",
        "                  '''\n",
        "\n",
        "    response = model.predict(\n",
        "        example + prompt,\n",
        "        temperature=0,\n",
        "        max_output_tokens=1000,\n",
        "        top_k=1,\n",
        "        top_p=0,)\n",
        "    #print(f\"Response from Model: {response.text}\")\n",
        "    return response.text\n",
        "\n",
        "\n",
        "#For testing of the above function\n",
        "json_resp = predict_large_language_model_sample('''\n",
        "        input: calculate interest and total amount paid on a Loan Principal of $10,000 over 10 years,\n",
        "        with an interest rate of 5 % per annum.\n",
        "\n",
        "        This quote is being prepared for the following customer details\n",
        "        customer: John R. Smith\n",
        "        Address: 911 Elm Street, LA, CA, 90506\n",
        "        Phone: 714-201-0120\n",
        "\n",
        "        output:\n",
        "''')\n",
        "\n",
        "print(\"json format \\n\", json_resp)"
      ],
      "metadata": {
        "colab": {
          "base_uri": "https://localhost:8080/"
        },
        "id": "jRGcaaoYvNQ1",
        "outputId": "a2f3cb7b-4c8c-4f8d-aaf3-c5843a1355d5"
      },
      "execution_count": 17,
      "outputs": [
        {
          "output_type": "stream",
          "name": "stdout",
          "text": [
            "json format \n",
            " {\"customer\": \"John R. Smith\",\n",
            " \"Address\": \"911 Elm Street\",\n",
            " \"City\": \"LA\",\n",
            " \"State\": \"CA\",\n",
            " \"Zip\": \"90506\",\n",
            " \"Phone\": \"714-201-0120\",\n",
            " \"Loan Amount\": \"$10,000\",\n",
            " \"Term\": \"10 years\",\n",
            " \"Interest Rate\": \"5%\",\n",
            " \"Total Interest\": \"$5000\",\n",
            " \"Total Amount to be paid\": \"$15000\"\n",
            " }\n"
          ]
        }
      ]
    },
    {
      "cell_type": "markdown",
      "source": [
        "Use this :\n",
        "\n",
        "```\n",
        "calculate interest and total amount paid on a Loan Principal of $10,000 over 10 years, with an interest rate of 5 % per annum.\n",
        "\n",
        "This quote is being prepared for the following customer details\n",
        "customer: John Smith\n",
        "Address: 911 Elm Street, LA, CA, 90506\n",
        "Phone: 714-201-0120\n",
        "\n",
        " ```\n",
        "\n"
      ],
      "metadata": {
        "id": "oa5revT36-Ft"
      }
    },
    {
      "cell_type": "code",
      "source": [
        "!pip install gradio --quiet"
      ],
      "metadata": {
        "id": "1BlD-lrRmyDS"
      },
      "execution_count": 6,
      "outputs": []
    },
    {
      "cell_type": "code",
      "source": [
        "import gradio as gr\n",
        "\n",
        "def qa_interface(question):\n",
        "    QUESTION = question\n",
        "    PROMPT = \"Extract all information as JSON. input: \" + QUESTION + \"output:\"\n",
        "\n",
        "    json_op = predict_large_language_model_sample(PROMPT)\n",
        "    return json_op\n",
        "\n",
        "iface = gr.Interface(fn=qa_interface,\n",
        "                     inputs=[\n",
        "                         gr.inputs.Textbox(label=\"Question\")\n",
        "                         #, gr.Slider(0, 1, 0.3)\n",
        "                         #, gr.Slider(0, 1, 1)\n",
        "                         #, gr.Slider(0, 1024, 700)\n",
        "                         #, gr.Slider(0, 40, 40)\n",
        "                         ],\n",
        "                     outputs=[\n",
        "                         gr.Textbox(label=\"JSON Output\"),\n",
        "\n",
        "                          ],\n",
        "                     title=\"Mortgage Rate Calculator\",\n",
        "                     description=\"This is a GenAI based quotes generator (using Google Gen APIs)\",\n",
        "                     allow_flagging=False,\n",
        "                     theme=gr.themes.Soft()\n",
        "                     )\n",
        "\n",
        "iface.launch(share=True)"
      ],
      "metadata": {
        "colab": {
          "base_uri": "https://localhost:8080/",
          "height": 749
        },
        "id": "kYLracSgxchM",
        "outputId": "e8a63a41-83a3-4ab3-d454-54a9afde91dd"
      },
      "execution_count": 9,
      "outputs": [
        {
          "output_type": "stream",
          "name": "stderr",
          "text": [
            "<ipython-input-9-3fc12c6d34e9>:12: GradioDeprecationWarning: Usage of gradio.inputs is deprecated, and will not be supported in the future, please import your component from gradio.components\n",
            "  gr.inputs.Textbox(label=\"Question\")\n",
            "<ipython-input-9-3fc12c6d34e9>:12: GradioDeprecationWarning: `optional` parameter is deprecated, and it has no effect\n",
            "  gr.inputs.Textbox(label=\"Question\")\n",
            "<ipython-input-9-3fc12c6d34e9>:12: GradioDeprecationWarning: `numeric` parameter is deprecated, and it has no effect\n",
            "  gr.inputs.Textbox(label=\"Question\")\n",
            "/usr/local/lib/python3.10/dist-packages/gradio/interface.py:332: UserWarning: The `allow_flagging` parameter in `Interface` nowtakes a string value ('auto', 'manual', or 'never'), not a boolean. Setting parameter to: 'never'.\n",
            "  warnings.warn(\n"
          ]
        },
        {
          "output_type": "stream",
          "name": "stdout",
          "text": [
            "Colab notebook detected. To show errors in colab notebook, set debug=True in launch()\n",
            "Running on public URL: https://e2264fb68f5b20cfc5.gradio.live\n",
            "\n",
            "This share link expires in 72 hours. For free permanent hosting and GPU upgrades, run `gradio deploy` from Terminal to deploy to Spaces (https://huggingface.co/spaces)\n"
          ]
        },
        {
          "output_type": "display_data",
          "data": {
            "text/plain": [
              "<IPython.core.display.HTML object>"
            ],
            "text/html": [
              "<div><iframe src=\"https://e2264fb68f5b20cfc5.gradio.live\" width=\"100%\" height=\"500\" allow=\"autoplay; camera; microphone; clipboard-read; clipboard-write;\" frameborder=\"0\" allowfullscreen></iframe></div>"
            ]
          },
          "metadata": {}
        },
        {
          "output_type": "execute_result",
          "data": {
            "text/plain": []
          },
          "metadata": {},
          "execution_count": 9
        }
      ]
    },
    {
      "cell_type": "code",
      "source": [],
      "metadata": {
        "id": "I5hhZwOq6_4e"
      },
      "execution_count": null,
      "outputs": []
    }
  ]
}
