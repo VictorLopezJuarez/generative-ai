{
  "nbformat": 4,
  "nbformat_minor": 0,
  "metadata": {
    "colab": {
      "provenance": [],
      "collapsed_sections": [
        "Md5URu7c9EVm"
      ]
    },
    "kernelspec": {
      "name": "python3",
      "display_name": "Python 3"
    },
    "language_info": {
      "name": "python"
    }
  },
  "cells": [
    {
      "cell_type": "markdown",
      "source": [
        "YouTube Link: https://youtu.be/eyDIkYAFFrg"
      ],
      "metadata": {
        "id": "uVyEzYxMQvz4"
      }
    },
    {
      "cell_type": "code",
      "source": [
        "#@title Code: Run this cell to install  dependencies\n",
        "## install libraries\n",
        "\n",
        "!pip install google-cloud-aiplatform --upgrade --quiet\n",
        "\n",
        "!pip install google-cloud-core --quiet\n",
        "!pip install youtube-transcript-api --quiet\n",
        "!pip install tensorflow-text --quiet\n",
        "!pip install nltk --quiet\n",
        "\n",
        "\n"
      ],
      "metadata": {
        "id": "8Tg0sXoQyMeI"
      },
      "execution_count": null,
      "outputs": []
    },
    {
      "cell_type": "markdown",
      "source": [
        "\n",
        "\n",
        "\n",
        "\n",
        "**Restart runtime after the above installs**"
      ],
      "metadata": {
        "id": "JaK_Jgtsd1XT"
      }
    },
    {
      "cell_type": "code",
      "source": [
        "from google.colab import auth as google_auth\n",
        "google_auth.authenticate_user()"
      ],
      "metadata": {
        "id": "9_eiAQsRkMI3"
      },
      "execution_count": 1,
      "outputs": []
    },
    {
      "cell_type": "code",
      "source": [
        "#@title Code: Run this cell to  import dependencies\n",
        "\n",
        "\n",
        "## import\n",
        "from youtube_transcript_api import YouTubeTranscriptApi\n",
        "from google.cloud import aiplatform\n",
        "from google.cloud.aiplatform.gapic.schema import predict\n",
        "from google.protobuf import json_format\n",
        "from google.protobuf.struct_pb2 import Value\n",
        "import vertexai\n",
        "from vertexai.language_models import TextGenerationModel, TextEmbeddingModel\n",
        "# from google.cloud import aiplatform\n",
        "# from google.cloud.aiplatform.private_preview.language_models import TextGenerationModel, ChatModel, TextEmbeddingModel\n",
        "\n",
        "from IPython.display import HTML, display\n",
        "#required for generating embeddings\n",
        "import tensorflow_hub as hub\n",
        "import numpy as np\n",
        "import tensorflow_text\n",
        "from numpy import dot\n",
        "from numpy.linalg import norm\n",
        "import numpy as np\n",
        "import math\n",
        "from IPython.display import YouTubeVideo\n",
        "\n",
        "#for preprocessing\n",
        "import nltk\n",
        "from nltk.corpus import stopwords\n",
        "from nltk.tokenize import word_tokenize\n",
        "from sklearn.metrics.pairwise import cosine_similarity\n",
        "nltk.download('stopwords')\n",
        "nltk.download('punkt')\n"
      ],
      "metadata": {
        "id": "xftA1kKSvOIw",
        "colab": {
          "base_uri": "https://localhost:8080/",
          "height": 104
        },
        "cellView": "form",
        "outputId": "dff872d2-c5ba-4f58-a5d0-db68e7595222"
      },
      "execution_count": 22,
      "outputs": [
        {
          "output_type": "display_data",
          "data": {
            "text/plain": [
              "<IPython.core.display.HTML object>"
            ],
            "text/html": [
              "\n",
              "  <style>\n",
              "    pre {\n",
              "        white-space: pre-wrap;\n",
              "    }\n",
              "  </style>\n",
              "  "
            ]
          },
          "metadata": {}
        },
        {
          "output_type": "display_data",
          "data": {
            "text/plain": [
              "<IPython.core.display.HTML object>"
            ],
            "text/html": [
              "\n",
              "  <style>\n",
              "    pre {\n",
              "        white-space: pre-wrap;\n",
              "    }\n",
              "  </style>\n",
              "  "
            ]
          },
          "metadata": {}
        },
        {
          "output_type": "stream",
          "name": "stderr",
          "text": [
            "[nltk_data] Downloading package stopwords to /root/nltk_data...\n",
            "[nltk_data]   Package stopwords is already up-to-date!\n",
            "[nltk_data] Downloading package punkt to /root/nltk_data...\n",
            "[nltk_data]   Package punkt is already up-to-date!\n"
          ]
        },
        {
          "output_type": "execute_result",
          "data": {
            "text/plain": [
              "True"
            ]
          },
          "metadata": {},
          "execution_count": 22
        }
      ]
    },
    {
      "cell_type": "code",
      "source": [
        "vertexai.init(project=\"<ENTER YOUR PROJECT ID>\", location=\"us-central1\")\n",
        "\n",
        "\n",
        "\n",
        "def predict_large_language_model_sample(\n",
        "    content: str,\n",
        "    temperature: float,\n",
        "    max_decode_steps: int,\n",
        "    top_p: float,\n",
        "    top_k: int,\n",
        "    ):\n",
        "  parameters = {\n",
        "    \"temperature\": temperature,\n",
        "    \"max_output_tokens\": max_decode_steps,\n",
        "    \"top_p\": top_p,\n",
        "    \"top_k\": top_k\n",
        "  }\n",
        "  model = TextGenerationModel.from_pretrained(\"text-bison@001\")\n",
        "  response = model.predict(content, **parameters)\n",
        "\n",
        "  return response.text\n"
      ],
      "metadata": {
        "id": "h8-iVo8rlFIv",
        "colab": {
          "base_uri": "https://localhost:8080/",
          "height": 17
        },
        "outputId": "1a09acd2-2570-4a69-cf00-7dcb4d2ccf50"
      },
      "execution_count": 23,
      "outputs": [
        {
          "output_type": "display_data",
          "data": {
            "text/plain": [
              "<IPython.core.display.HTML object>"
            ],
            "text/html": [
              "\n",
              "  <style>\n",
              "    pre {\n",
              "        white-space: pre-wrap;\n",
              "    }\n",
              "  </style>\n",
              "  "
            ]
          },
          "metadata": {}
        },
        {
          "output_type": "display_data",
          "data": {
            "text/plain": [
              "<IPython.core.display.HTML object>"
            ],
            "text/html": [
              "\n",
              "  <style>\n",
              "    pre {\n",
              "        white-space: pre-wrap;\n",
              "    }\n",
              "  </style>\n",
              "  "
            ]
          },
          "metadata": {}
        }
      ]
    },
    {
      "cell_type": "code",
      "source": [
        "#@title You can keep this parameters as default or experiment with the values\n",
        "\n",
        "temperature = 0.2 # @param {type:\"number\"}\n",
        "max_decode_steps = 1024 # @param {type:\"number\"}\n",
        "top_p = 0.95 # @param {type:\"number\"}\n",
        "top_k = 40 # @param {type:\"number\"}"
      ],
      "metadata": {
        "colab": {
          "base_uri": "https://localhost:8080/",
          "height": 17
        },
        "id": "EPojFSQf--2I",
        "outputId": "3b82dad9-98c9-407a-8151-eea5f38380db"
      },
      "execution_count": 7,
      "outputs": [
        {
          "output_type": "display_data",
          "data": {
            "text/plain": [
              "<IPython.core.display.HTML object>"
            ],
            "text/html": [
              "\n",
              "  <style>\n",
              "    pre {\n",
              "        white-space: pre-wrap;\n",
              "    }\n",
              "  </style>\n",
              "  "
            ]
          },
          "metadata": {}
        }
      ]
    },
    {
      "cell_type": "markdown",
      "source": [
        "## Helper Functions"
      ],
      "metadata": {
        "id": "RhXMGy_38H7H"
      }
    },
    {
      "cell_type": "code",
      "source": [
        "def set_css():\n",
        "  display(HTML('''\n",
        "  <style>\n",
        "    pre {\n",
        "        white-space: pre-wrap;\n",
        "    }\n",
        "  </style>\n",
        "  '''))\n",
        "get_ipython().events.register('pre_run_cell', set_css)\n",
        "\n",
        "\n",
        "def get_transcript(video_id):\n",
        "  transcript = YouTubeTranscriptApi.get_transcript(video_id)\n",
        "  merged_text = \" \".join([t['text'] for t in transcript]).replace(\"\\n\", \" \")\n",
        "\n",
        "  return merged_text\n",
        "\n",
        "\n",
        "def remove_stop_words(input_text:str) -> str:\n",
        "  stop_words = set(stopwords.words('english'))\n",
        "  word_tokens = word_tokenize(input_text)\n",
        "\n",
        "  filtered_sentence = [w for w in word_tokens if not w.lower() in stop_words]\n",
        "\n",
        "  return \" \".join(filtered_sentence)\n",
        "\n",
        "def get_embeddings_for_transcript(video_id):\n",
        "  _transcript = YouTubeTranscriptApi.get_transcript(video_id)\n",
        "\n",
        "  #load the embedding model from tensorflow hub\n",
        "  embed = hub.load(\"https://tfhub.dev/google/universal-sentence-encoder-multilingual/3\")\n",
        "  #nj#embedding_model = TextEmbeddingModel.from_pretrained(\"textembedding-gecko@001\")\n",
        "\n",
        "\n",
        "  _embedded_transcript = []\n",
        "\n",
        "  line_count = 0\n",
        "  line = ''\n",
        "  line_start = 0\n",
        "  line_processed = 0\n",
        "  NUM_LINES = 4\n",
        "  prev_line = ''\n",
        "\n",
        "  #generate embeddings for the entire transcripts\n",
        "  for t in _transcript:\n",
        "    line_processed = line_processed + 1\n",
        "\n",
        "    if line_count != NUM_LINES:\n",
        "      line_count = line_count + 1 #increase the line count till it reaches NUM_LINES\n",
        "      line = line + ' ' + t['text'] # append the lines\n",
        "\n",
        "    if line_count == 1: #note the start for first line\n",
        "      line_start = t['start']\n",
        "\n",
        "    #on reaching NUM_LINES or the last line in the transcript, embed and add to the list\n",
        "    if line_count == NUM_LINES or line_processed == len(_transcript):\n",
        "      if line_processed != len(_transcript):\n",
        "        line = line + ' ' + _transcript[line_processed]['text'] #creating overlaps\n",
        "\n",
        "      if line_processed != 1:\n",
        "        line = prev_line + ' ' + line  #creating overlaps, taking last 10 words from previous line\n",
        "\n",
        "      line_unmodified = line\n",
        "      line = remove_stop_words(line)\n",
        "      #print(\"Here-1\")\n",
        "      embedding = embed(line)[0].numpy()\n",
        "\n",
        "\n",
        "      _embedded_transcript.append({\n",
        "      'text':line,\n",
        "      'embedding':embedding,\n",
        "      'start':line_start,\n",
        "      'line_raw':line_unmodified\n",
        "      })\n",
        "\n",
        "      line_count = 0\n",
        "      line = ''\n",
        "      line_start = 0\n",
        "      prev_line = t['text']\n",
        "  # print(len(_embedded_transcript))\n",
        "  return _embedded_transcript\n",
        "\n",
        "def get_embedding(text):\n",
        "  #load the embedding model from tensorflow hub\n",
        "  embed = hub.load(\"https://tfhub.dev/google/universal-sentence-encoder-multilingual/3\")\n",
        "  #embedding_model = TextEmbeddingModel.from_pretrained(\"textembedding-gecko@001\")\n",
        "  text = remove_stop_words(text)\n",
        "  return embed(text)[0].numpy()\n",
        "\n",
        "\n",
        "def chunk_search_qna(text, question):\n",
        "  chunk_size = 2500\n",
        "  chunks = []\n",
        "  for i in range(0, len(text), chunk_size-200):\n",
        "    chunks.append(text[i:i + chunk_size])\n",
        "\n",
        "  for chunk in chunks:\n",
        "    res = predict_large_language_model_sample(f'''Respond in yes or no only.\n",
        "      does the below text contain answer to the question:\n",
        "      {question}\\n TEXT: {chunk}''', 0.2, 256, 0.95, 40)\n",
        "\n",
        "    if 'yes' in res.lower():\n",
        "      prompt_question = f'''Based on all the text below and only on this text, give to-the-point answer this question \"{question}\".\\n\\n''' + chunk\n",
        "      return predict_large_language_model_sample(prompt_question, 0.2, 256, 0.95, 40)\n",
        "\n",
        "  return 'The text does not contain answer to this question'\n"
      ],
      "metadata": {
        "colab": {
          "base_uri": "https://localhost:8080/",
          "height": 17
        },
        "id": "wPJ3-XwXlPXe",
        "outputId": "bb7c4742-16b9-40d2-8bf2-8f58ed15a2ef"
      },
      "execution_count": 8,
      "outputs": [
        {
          "output_type": "display_data",
          "data": {
            "text/plain": [
              "<IPython.core.display.HTML object>"
            ],
            "text/html": [
              "\n",
              "  <style>\n",
              "    pre {\n",
              "        white-space: pre-wrap;\n",
              "    }\n",
              "  </style>\n",
              "  "
            ]
          },
          "metadata": {}
        }
      ]
    },
    {
      "cell_type": "markdown",
      "source": [
        "## Prompt Tuning and Video Summarization ,transcript and jumt to timeline Functions"
      ],
      "metadata": {
        "id": "Md5URu7c9EVm"
      }
    },
    {
      "cell_type": "code",
      "source": [
        "\n",
        "\n",
        "def get_answer_matching_transcript(merged_text, question):\n",
        "\n",
        "\n",
        "  prompt = f'''Answer the question in crisp and brief format: {question},\n",
        "  based on the below context. You will use the words as it is mentioned in the context \\n Context : {merged_text} \\n'''\n",
        "  # you use words only from the given dictionary \\n dictionary : {merged_text.split(' ')}'''\n",
        "  prompt = prompt[:20000]\n",
        "\n",
        "  return predict_large_language_model_sample(prompt, temperature, max_decode_steps, top_p, top_k)\n",
        "\n",
        "def get_summary(video_id):\n",
        "  merged_text = get_transcript(video_id)\n",
        "  summarize_prompt = \"Summarize all the text below in few sentences.\\n\" #worked perfectly\n",
        "\n",
        "\n",
        "  prompt_summary = summarize_prompt + merged_text\n",
        "  return predict_large_language_model_sample(prompt_summary, temperature, max_decode_steps, top_p, top_k)\n",
        "\n",
        "\n",
        "def get_answer(video_id, question):\n",
        "  merged_text = get_transcript(video_id)\n",
        "  prompt_question = f'''Answer the question : {question}, based on the below context \\n Context : {merged_text} \\n ''' # correct\n",
        "\n",
        "  return predict_large_language_model_sample(prompt_question, temperature, max_decode_steps, top_p, top_k)\n",
        "\n",
        "\n",
        "\n",
        "def jumpto_timestamps(video_id, question):\n",
        "  print(f'Question : {question}')\n",
        "\n",
        "  #get exact matching answere from text model\n",
        "  ans_qna = get_answer_matching_transcript(get_transcript(video_id), question)\n",
        "\n",
        "  print(f'Answer : {ans_qna}')\n",
        "  print(\"**************************************************************\")\n",
        "  print(\"The following relevant details are found in the youtube video:\")\n",
        "  print(\"**************************************************************\")\n",
        "  #embed the entire transcript line by line with start time\n",
        "  embedded_transcript = get_embeddings_for_transcript(video_id)\n",
        "\n",
        "  #embed the answer given by the model\n",
        "  ans_qna_embeddings = get_embedding(ans_qna)\n",
        "\n",
        "  answers_in_video = []\n",
        "  from scipy.spatial import distance\n",
        "\n",
        "  #calculate cosine similarity\n",
        "  for e in embedded_transcript:\n",
        "    # cos_sim = dot(e['embedding'], ans_qna_embeddings)/(norm(e['embedding'])*norm(ans_qna_embeddings))\n",
        "    cos_sim = 1 - distance.cosine(e['embedding'], ans_qna_embeddings)\n",
        "    e[\"similarity\"] = cos_sim\n",
        "    answers_in_video.append(e)\n",
        "    # if cos_sim > 0.4:\n",
        "    #   answers_in_video.append(e)\n",
        "\n",
        "  #sort the list based on cosine similarity\n",
        "  most_matching_answers = sorted(answers_in_video, key=lambda d: d['similarity'], reverse=True)\n",
        "\n",
        "  #present the result to the user\n",
        "  for ans in most_matching_answers[:4]: #presenting only the first two results\n",
        "    start = ans['start']\n",
        "    print(f'\\nTranscript : {ans[\"line_raw\"]}')\n",
        "    print(f\"Kewords: {ans['text']} \\n [MATCH : {round(ans['similarity'] * 100, 1) }%]\")\n",
        "    display(YouTubeVideo( id=video_id, width=700, height=300, allow_autoplay=False, start=math.ceil(float(start))))"
      ],
      "metadata": {
        "colab": {
          "base_uri": "https://localhost:8080/",
          "height": 17
        },
        "id": "nvhqUaVjlXBG",
        "outputId": "e845ec81-6179-4917-ab65-fa3bd1867811"
      },
      "execution_count": 9,
      "outputs": [
        {
          "output_type": "display_data",
          "data": {
            "text/plain": [
              "<IPython.core.display.HTML object>"
            ],
            "text/html": [
              "\n",
              "  <style>\n",
              "    pre {\n",
              "        white-space: pre-wrap;\n",
              "    }\n",
              "  </style>\n",
              "  "
            ]
          },
          "metadata": {}
        },
        {
          "output_type": "display_data",
          "data": {
            "text/plain": [
              "<IPython.core.display.HTML object>"
            ],
            "text/html": [
              "\n",
              "  <style>\n",
              "    pre {\n",
              "        white-space: pre-wrap;\n",
              "    }\n",
              "  </style>\n",
              "  "
            ]
          },
          "metadata": {}
        }
      ]
    },
    {
      "cell_type": "markdown",
      "source": [
        "#Use Case : Gen AI Video"
      ],
      "metadata": {
        "id": "FXG4GE088Ig3"
      }
    },
    {
      "cell_type": "code",
      "source": [
        "#@title Enter the Youtube URL here\n",
        "\n",
        "youtube_video_url = \"https://www.youtube.com/watch?v=FtLWDjNMPgs\"# @param {type:\"string\"}\n",
        "\n",
        "video_id = youtube_video_url.split('?v=')[-1]\n",
        "\n",
        "print(video_id)"
      ],
      "metadata": {
        "colab": {
          "base_uri": "https://localhost:8080/",
          "height": 34
        },
        "id": "_gSLEwjl8oD2",
        "outputId": "844fb798-617f-4c2f-95b4-545223ac6d90"
      },
      "execution_count": 18,
      "outputs": [
        {
          "output_type": "display_data",
          "data": {
            "text/plain": [
              "<IPython.core.display.HTML object>"
            ],
            "text/html": [
              "\n",
              "  <style>\n",
              "    pre {\n",
              "        white-space: pre-wrap;\n",
              "    }\n",
              "  </style>\n",
              "  "
            ]
          },
          "metadata": {}
        },
        {
          "output_type": "display_data",
          "data": {
            "text/plain": [
              "<IPython.core.display.HTML object>"
            ],
            "text/html": [
              "\n",
              "  <style>\n",
              "    pre {\n",
              "        white-space: pre-wrap;\n",
              "    }\n",
              "  </style>\n",
              "  "
            ]
          },
          "metadata": {}
        },
        {
          "output_type": "stream",
          "name": "stdout",
          "text": [
            "FtLWDjNMPgs\n"
          ]
        }
      ]
    },
    {
      "cell_type": "code",
      "source": [
        "#@title Run this to get summary\n",
        "\n",
        "print(get_summary(video_id))"
      ],
      "metadata": {
        "colab": {
          "base_uri": "https://localhost:8080/",
          "height": 104
        },
        "id": "Fcn4eklAw5qA",
        "outputId": "49e88e22-8087-4be0-fcb9-8c8c016499d1"
      },
      "execution_count": 19,
      "outputs": [
        {
          "output_type": "display_data",
          "data": {
            "text/plain": [
              "<IPython.core.display.HTML object>"
            ],
            "text/html": [
              "\n",
              "  <style>\n",
              "    pre {\n",
              "        white-space: pre-wrap;\n",
              "    }\n",
              "  </style>\n",
              "  "
            ]
          },
          "metadata": {}
        },
        {
          "output_type": "display_data",
          "data": {
            "text/plain": [
              "<IPython.core.display.HTML object>"
            ],
            "text/html": [
              "\n",
              "  <style>\n",
              "    pre {\n",
              "        white-space: pre-wrap;\n",
              "    }\n",
              "  </style>\n",
              "  "
            ]
          },
          "metadata": {}
        },
        {
          "output_type": "stream",
          "name": "stdout",
          "text": [
            "The video introduces Lang chain, a framework for developing applications powered by large language models. It provides reusable components like integrations and agents, and helps you to connect to external systems like PDFs, web data, and different toolkits.\n",
            "\n",
            "The video also covers the three primitive models in Lang chain: llms, chat, and text embeddings. It then discusses prompts, prompt templates, and vector stores. Finally, the video shows how to store embeddings using the Facebook open source document embedding store.\n"
          ]
        }
      ]
    },
    {
      "cell_type": "code",
      "source": [
        "#@title Run this to get answer to this question\n",
        "question = \"What is a Prompt Template in Langchain?\"# @param {type:\"string\"}\n",
        "print(get_answer(video_id, question))"
      ],
      "metadata": {
        "colab": {
          "base_uri": "https://localhost:8080/",
          "height": 86
        },
        "outputId": "cf4aba9e-b86f-48b0-84e9-ca4927d60b85",
        "id": "RRZ_bLMoC3OR"
      },
      "execution_count": 20,
      "outputs": [
        {
          "output_type": "display_data",
          "data": {
            "text/plain": [
              "<IPython.core.display.HTML object>"
            ],
            "text/html": [
              "\n",
              "  <style>\n",
              "    pre {\n",
              "        white-space: pre-wrap;\n",
              "    }\n",
              "  </style>\n",
              "  "
            ]
          },
          "metadata": {}
        },
        {
          "output_type": "display_data",
          "data": {
            "text/plain": [
              "<IPython.core.display.HTML object>"
            ],
            "text/html": [
              "\n",
              "  <style>\n",
              "    pre {\n",
              "        white-space: pre-wrap;\n",
              "    }\n",
              "  </style>\n",
              "  "
            ]
          },
          "metadata": {}
        },
        {
          "output_type": "stream",
          "name": "stdout",
          "text": [
            "\n",
            "A Prompt Template is a string that is used to create a prompt for a model. The prompt template can include variables that are replaced with user input. For example, the prompt template \"I want to travel to a location. What should I do there?\" could be used to create a prompt for a travel chatbot. The user would then be asked to provide a location, and the chatbot would generate a response based on the location.\n"
          ]
        }
      ]
    },
    {
      "cell_type": "code",
      "source": [
        "#@title Run this to get answer to this question\n",
        "question = \"How many models are supported from Model Garden in LangChain?\"# @param {type:\"string\"}\n",
        "\n",
        "print(get_answer(video_id, question))"
      ],
      "metadata": {
        "colab": {
          "base_uri": "https://localhost:8080/",
          "height": 34
        },
        "outputId": "8b11d2c1-4b7b-486c-fe34-0775d691cd00",
        "id": "KYQyaEtf8x1d"
      },
      "execution_count": 21,
      "outputs": [
        {
          "output_type": "display_data",
          "data": {
            "text/plain": [
              "<IPython.core.display.HTML object>"
            ],
            "text/html": [
              "\n",
              "  <style>\n",
              "    pre {\n",
              "        white-space: pre-wrap;\n",
              "    }\n",
              "  </style>\n",
              "  "
            ]
          },
          "metadata": {}
        },
        {
          "output_type": "display_data",
          "data": {
            "text/plain": [
              "<IPython.core.display.HTML object>"
            ],
            "text/html": [
              "\n",
              "  <style>\n",
              "    pre {\n",
              "        white-space: pre-wrap;\n",
              "    }\n",
              "  </style>\n",
              "  "
            ]
          },
          "metadata": {}
        },
        {
          "output_type": "stream",
          "name": "stdout",
          "text": [
            "3 models are supported from Model Garden in LangChain. These are text bison, chat python and text embedding gecko.\n"
          ]
        }
      ]
    },
    {
      "cell_type": "code",
      "source": [
        "#@title Run this to locate the answer in video\n",
        "question = \"How many models are supported from Model Garden in LangChain?\"# @param {type:\"string\"}\n",
        "\n",
        "jumpto_timestamps(video_id, question)"
      ],
      "metadata": {
        "colab": {
          "base_uri": "https://localhost:8080/",
          "height": 1000
        },
        "id": "Wue4zoWhyWlQ",
        "outputId": "3dacb424-6ab0-482b-9f6d-8b6130f56170"
      },
      "execution_count": 16,
      "outputs": [
        {
          "output_type": "display_data",
          "data": {
            "text/plain": [
              "<IPython.core.display.HTML object>"
            ],
            "text/html": [
              "\n",
              "  <style>\n",
              "    pre {\n",
              "        white-space: pre-wrap;\n",
              "    }\n",
              "  </style>\n",
              "  "
            ]
          },
          "metadata": {}
        },
        {
          "output_type": "display_data",
          "data": {
            "text/plain": [
              "<IPython.core.display.HTML object>"
            ],
            "text/html": [
              "\n",
              "  <style>\n",
              "    pre {\n",
              "        white-space: pre-wrap;\n",
              "    }\n",
              "  </style>\n",
              "  "
            ]
          },
          "metadata": {}
        },
        {
          "output_type": "stream",
          "name": "stdout",
          "text": [
            "Question : How many models are supported from Model Garden in LangChain?\n",
            "Answer : Only three models are supported in LangChain as of now. These are text bison, chat, and text embedding.\n",
            "**************************************************************\n",
            "The following relevant details are found in the youtube video:\n",
            "**************************************************************\n",
            "\n",
            "Transcript : only these three models are supported in  Lang chain as of now and this space is changing super fast so text bison at the rate001 we're gonna see example of this chat python we are also look at an example of this and text\n",
            "Kewords: three models supported Lang chain space changing super fast text bison rate001 're gon na see example chat python also look example text \n",
            " [MATCH : 56.5%]\n"
          ]
        },
        {
          "output_type": "display_data",
          "data": {
            "text/plain": [
              "<IPython.lib.display.YouTubeVideo at 0x7dca8fbd02e0>"
            ],
            "text/html": [
              "\n",
              "        <iframe\n",
              "            width=\"700\"\n",
              "            height=\"300\"\n",
              "            src=\"https://www.youtube.com/embed/FtLWDjNMPgs?start=147\"\n",
              "            frameborder=\"0\"\n",
              "            allowfullscreen\n",
              "            \n",
              "        ></iframe>\n",
              "        "
            ],
            "image/jpeg": "[encoded data removed]"
          },
          "metadata": {}
        },
        {
          "output_type": "stream",
          "name": "stdout",
          "text": [
            "\n",
            "Transcript : there are three types of basic models  sorry I'm just scrolling up a little faster the the text the chat and then belly now we looked at the chat\n",
            "Kewords: three types basic models sorry 'm scrolling little faster text chat belly looked chat \n",
            " [MATCH : 48.3%]\n"
          ]
        },
        {
          "output_type": "display_data",
          "data": {
            "text/plain": [
              "<IPython.lib.display.YouTubeVideo at 0x7dca8fbd02e0>"
            ],
            "text/html": [
              "\n",
              "        <iframe\n",
              "            width=\"700\"\n",
              "            height=\"300\"\n",
              "            src=\"https://www.youtube.com/embed/FtLWDjNMPgs?start=1169\"\n",
              "            frameborder=\"0\"\n",
              "            allowfullscreen\n",
              "            \n",
              "        ></iframe>\n",
              "        "
            ],
            "image/jpeg": "[encoded data removed]"
          },
          "metadata": {}
        },
        {
          "output_type": "stream",
          "name": "stdout",
          "text": [
            "\n",
            "Transcript : next now let's look at the three  primitive models llms chat and text embeddings now llm remember this is the vertex AI text bison I'm going to ask which is the parent\n",
            "Kewords: next let 's look three primitive models llms chat text embeddings llm remember vertex AI text bison 'm going ask parent \n",
            " [MATCH : 46.1%]\n"
          ]
        },
        {
          "output_type": "display_data",
          "data": {
            "text/plain": [
              "<IPython.lib.display.YouTubeVideo at 0x7dca8fbd2f80>"
            ],
            "text/html": [
              "\n",
              "        <iframe\n",
              "            width=\"700\"\n",
              "            height=\"300\"\n",
              "            src=\"https://www.youtube.com/embed/FtLWDjNMPgs?start=608\"\n",
              "            frameborder=\"0\"\n",
              "            allowfullscreen\n",
              "            \n",
              "        ></iframe>\n",
              "        "
            ],
            "image/jpeg": "[encoded data removed]"
          },
          "metadata": {}
        },
        {
          "output_type": "stream",
          "name": "stdout",
          "text": [
            "\n",
            "Transcript : the text pythons the chat bisons  and bearings the text embedding gecko templates we're gonna talk about prompt templates too we are going to talk about templates that you would create how you could chain prompts and things like that\n",
            "Kewords: text pythons chat bisons bearings text embedding gecko templates 're gon na talk prompt templates going talk templates would create could chain prompts things like \n",
            " [MATCH : 44.0%]\n"
          ]
        },
        {
          "output_type": "display_data",
          "data": {
            "text/plain": [
              "<IPython.lib.display.YouTubeVideo at 0x7dca8fbd3190>"
            ],
            "text/html": [
              "\n",
              "        <iframe\n",
              "            width=\"700\"\n",
              "            height=\"300\"\n",
              "            src=\"https://www.youtube.com/embed/FtLWDjNMPgs?start=309\"\n",
              "            frameborder=\"0\"\n",
              "            allowfullscreen\n",
              "            \n",
              "        ></iframe>\n",
              "        "
            ],
            "image/jpeg": "[encoded data removed]"
          },
          "metadata": {}
        }
      ]
    }
  ]
}