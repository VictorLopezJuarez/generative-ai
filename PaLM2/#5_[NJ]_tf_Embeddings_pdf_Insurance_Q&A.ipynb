{
  "nbformat": 4,
  "nbformat_minor": 0,
  "metadata": {
    "colab": {
      "provenance": [],
      "collapsed_sections": [
        "aFYz8bLDvcmG",
        "iBgNuzSEvqId",
        "STOuFsKGwO2p",
        "l50i9H7NwUde",
        "ELn0QTCZwcri"
      ]
    },
    "kernelspec": {
      "name": "python3",
      "display_name": "Python 3"
    },
    "language_info": {
      "name": "python"
    }
  },
  "cells": [
    {
      "cell_type": "markdown",
      "source": [
        "### 0. Setup\n",
        "\n",
        "Run, then restart runtime! 🙏🙏"
      ],
      "metadata": {
        "id": "Q66ELxn0xsCM"
      }
    },
    {
      "cell_type": "code",
      "source": [
        "from google.colab import auth as google_auth\n",
        "google_auth.authenticate_user()"
      ],
      "metadata": {
        "id": "xkCjIup4x7oI"
      },
      "execution_count": null,
      "outputs": []
    },
    {
      "cell_type": "code",
      "source": [
        "!gsutil cp gs://vertex_sdk_llm_private_releases/SDK/google-cloud-aiplatform-1.23.0.llm.alpha.5.zip .\n",
        "\n",
        "!pip install google-cloud-aiplatform-1.23.0.llm.alpha.5.zip \"shapely<2.0.0\""
      ],
      "metadata": {
        "id": "N_Lj4nNKxri8"
      },
      "execution_count": null,
      "outputs": []
    },
    {
      "cell_type": "markdown",
      "source": [
        "### 1. Data Ingestion"
      ],
      "metadata": {
        "id": "zTiZbgx6vVoC"
      }
    },
    {
      "cell_type": "code",
      "source": [
        "! pip install PyPDF2"
      ],
      "metadata": {
        "id": "wzfuCBT_0SHV",
        "colab": {
          "base_uri": "https://localhost:8080/"
        },
        "outputId": "6422eca7-4144-4cfd-b694-2ebab5d22c37"
      },
      "execution_count": null,
      "outputs": [
        {
          "output_type": "stream",
          "name": "stdout",
          "text": [
            "Looking in indexes: https://pypi.org/simple, https://us-python.pkg.dev/colab-wheels/public/simple/\n",
            "Collecting PyPDF2\n",
            "  Downloading pypdf2-3.0.1-py3-none-any.whl (232 kB)\n",
            "\u001b[2K     \u001b[90m━━━━━━━━━━━━━━━━━━━━━━━━━━━━━━━━━━━━━━━\u001b[0m \u001b[32m232.6/232.6 kB\u001b[0m \u001b[31m7.1 MB/s\u001b[0m eta \u001b[36m0:00:00\u001b[0m\n",
            "\u001b[?25hInstalling collected packages: PyPDF2\n",
            "Successfully installed PyPDF2-3.0.1\n"
          ]
        }
      ]
    },
    {
      "cell_type": "code",
      "source": [
        "import PyPDF2\n",
        "from tqdm import tqdm\n",
        "from google.colab import drive\n",
        "from google.colab import files\n",
        "import requests\n",
        "drive.mount('/content/drive/')"
      ],
      "metadata": {
        "id": "6waGh1E6w1UF",
        "colab": {
          "base_uri": "https://localhost:8080/"
        },
        "outputId": "b8e7ecfa-39fb-49d8-827d-0992210d3f5b"
      },
      "execution_count": null,
      "outputs": [
        {
          "output_type": "stream",
          "name": "stdout",
          "text": [
            "Mounted at /content/drive/\n"
          ]
        }
      ]
    },
    {
      "cell_type": "markdown",
      "source": [
        "PDF URLs Ingestion\n",
        "\n",
        "1. import them.\n",
        "2. copy them to local drive."
      ],
      "metadata": {
        "id": "LYkFvnFZwIKS"
      }
    },
    {
      "cell_type": "code",
      "source": [
        "import os\n",
        "\n",
        "def importPDFs(src_folder_path, pdf_urls):\n",
        "    # Create the folder if it doesn't exist\n",
        "    if not os.path.exists(src_folder_path):\n",
        "        os.makedirs(src_folder_path)\n",
        "\n",
        "    # Loop through the PDF URLs and download them\n",
        "    for url in tqdm(pdf_urls):\n",
        "        response = requests.get(url)\n",
        "        if response.status_code == 200:\n",
        "            # Save the PDF file to the specified folder\n",
        "            file_path = f\"{src_folder_path}/{url.split('/')[-1]}\"\n",
        "            with open(file_path, 'wb') as f:\n",
        "                f.write(response.content)\n",
        "            print(f'{file_path} saved successfully.')\n",
        "        else:\n",
        "            print(f'Error downloading {url}: {response.status_code}')\n",
        "\n",
        "\n",
        "def copyFilesToLocalDrive(src_folder_path, dest_folder_path):\n",
        "    \"\"\"\n",
        "    Copies files from a source folder in Google Drive to a local folder in the Colab environment.\n",
        "\n",
        "    Args:\n",
        "    - src_folder_path (str): the path of the source folder in Google Drive\n",
        "    - dest_folder_path (str): the path of the destination folder in the Colab environment\n",
        "\n",
        "    Returns:\n",
        "    None\n",
        "    \"\"\"\n",
        "\n",
        "    # Remove the destination folder if it exists\n",
        "    if os.path.exists(dest_folder_path):\n",
        "        !rm -rf \"$dest_folder_path\"\n",
        "\n",
        "    # Create the destination folder\n",
        "    os.makedirs(dest_folder_path)\n",
        "\n",
        "    # Copy the files from the source folder to the destination folder\n",
        "    !cp \"$src_folder_path\"/* \"$dest_folder_path\"\n",
        "\n",
        "    # List the files in the destination folder\n",
        "    !ls \"$dest_folder_path\""
      ],
      "metadata": {
        "id": "g076PI6Ridgi"
      },
      "execution_count": null,
      "outputs": []
    },
    {
      "cell_type": "markdown",
      "source": [
        "HTML URLs Ingestion"
      ],
      "metadata": {
        "id": "u5nUVE8OwNnQ"
      }
    },
    {
      "cell_type": "code",
      "source": [
        "from urllib.request import urlopen\n",
        "from bs4 import BeautifulSoup\n",
        "\n",
        "def splitTextIntoChunks(text, url, chunk_size=400):\n",
        "    \"\"\"\n",
        "    Splits a given text into 400-word chunks and appends each chunk to a list.\n",
        "\n",
        "    Args:\n",
        "    - text (str): The text to be split.\n",
        "    - chunk_size (int): The number of words in each chunk.\n",
        "\n",
        "    Returns:\n",
        "    - chunks (list): A list of text chunks, each containing up to 400 words.\n",
        "    \"\"\"\n",
        "    # Split the text into words\n",
        "    words = text.split()\n",
        "\n",
        "    # Initialize a list to store the chunks\n",
        "    chunks = []\n",
        "    urls = []\n",
        "    pages = []\n",
        "\n",
        "    # Loop through the words and split them into chunks of size 'chunk_size'\n",
        "    for i in range(0, len(words), chunk_size):\n",
        "        chunk = ' '.join(words[i:i+chunk_size])\n",
        "        chunks.append(chunk)\n",
        "        urls.append(url)\n",
        "        pages.append(i//chunk_size + 1)\n",
        "\n",
        "    return chunks, urls, pages\n",
        "\n",
        "\n",
        "def processURL(url):\n",
        "    # Open the URL and read the HTML content\n",
        "    html = urlopen(url).read()\n",
        "\n",
        "    # Parse the HTML content using BeautifulSoup\n",
        "    soup = BeautifulSoup(html, features=\"html.parser\")\n",
        "\n",
        "    # Remove script and style elements from the HTML\n",
        "    for script in soup([\"script\", \"style\"]):\n",
        "        script.extract()\n",
        "\n",
        "    # Extract the text content from the HTML\n",
        "    text = soup.get_text()\n",
        "\n",
        "    # Split the text into chunks of 400 words each\n",
        "    chunks, urls, pages = splitTextIntoChunks(text, url, chunk_size=400)\n",
        "\n",
        "    # Return the list of text chunks\n",
        "    return chunks, urls, pages\n",
        "\n",
        "def HTMLsPreProcessing(html_urls):\n",
        "  all_chunks = []\n",
        "  all_urls = []\n",
        "  all_pages = []\n",
        "  for url in tqdm(html_urls):\n",
        "    chunk_list, url_list, page_chunk_list = processURL(url)\n",
        "    all_chunks += chunk_list\n",
        "    all_urls += url_list\n",
        "    all_pages += page_chunk_list\n",
        "  return all_chunks, all_urls, all_pages"
      ],
      "metadata": {
        "id": "MWS9fbzLwNC4"
      },
      "execution_count": null,
      "outputs": []
    },
    {
      "cell_type": "code",
      "source": [
        "# Set the path of the folder in your Google Drive where you want to save the PDF files\n",
        "src_folder_path = '/content/drive/MyDrive/Colab Notebooks/data/llm/Insurance'\n",
        "dest_folder_path = \"corpus\"\n",
        "\n",
        "# Loop through the PDF URLs and download them\n",
        "pdf_urls = [\n",
        "    # ADD YOUR PDF URLS HERE.\n",
        "    ]\n",
        "\n",
        "importPDFs(src_folder_path, pdf_urls)\n",
        "copyFilesToLocalDrive(src_folder_path, dest_folder_path)"
      ],
      "metadata": {
        "id": "b-RM7axzn85n",
        "colab": {
          "base_uri": "https://localhost:8080/"
        },
        "outputId": "5ab772f1-0447-4340-a72e-4cc8b50fe517"
      },
      "execution_count": null,
      "outputs": [
        {
          "output_type": "stream",
          "name": "stderr",
          "text": [
            "0it [00:00, ?it/s]\n"
          ]
        },
        {
          "output_type": "stream",
          "name": "stdout",
          "text": [
            "Sample-InsurancePolicy.pdf\n"
          ]
        }
      ]
    },
    {
      "cell_type": "code",
      "source": [
        "html_urls = [\n",
        "# ADD YOUR HTML URLS HERE.\n",
        "]\n",
        "\n",
        "all_chunks, all_urls, all_pages = HTMLsPreProcessing(html_urls)"
      ],
      "metadata": {
        "id": "vZ9OOg0ZxySQ",
        "colab": {
          "base_uri": "https://localhost:8080/"
        },
        "outputId": "6a81200f-30d2-46bb-b7c0-f11e253caf8e"
      },
      "execution_count": null,
      "outputs": [
        {
          "output_type": "stream",
          "name": "stderr",
          "text": [
            "0it [00:00, ?it/s]\n"
          ]
        }
      ]
    },
    {
      "cell_type": "markdown",
      "source": [
        "### 2. Data Pre-processing\n",
        "- Splitting PDFs in text chunks."
      ],
      "metadata": {
        "id": "aFYz8bLDvcmG"
      }
    },
    {
      "cell_type": "code",
      "source": [
        "def splitPDFsToString(file_paths):\n",
        "\n",
        "    # Create an empty list to store the text and another the titles from all PDF files\n",
        "    text_list = []\n",
        "    title_list = []\n",
        "    page_list = []\n",
        "\n",
        "    # Loop through each file path in the list\n",
        "    for file_path in tqdm(file_paths):\n",
        "        # Open the PDF file in read-binary mode\n",
        "        with open(file_path, 'rb') as pdf_file:\n",
        "            # Create a PdfFileReader object to read the PDF file\n",
        "            pdf_reader = PyPDF2.PdfReader(pdf_file)\n",
        "\n",
        "            # Get the number of pages in the PDF file\n",
        "            num_pages = len(pdf_reader.pages)\n",
        "\n",
        "            # Loop through each page in the PDF file\n",
        "            for page_num in range(num_pages):\n",
        "                # Get the Page object for the current page\n",
        "                page = pdf_reader.pages[page_num]\n",
        "                page_list.append(page_num)\n",
        "                # Extract the text from the current page and append it to the list\n",
        "                text_list.append(page.extract_text())\n",
        "                title_list.append(file_path)\n",
        "    # Return the list of lists of strings\n",
        "    return text_list, title_list, page_list\n"
      ],
      "metadata": {
        "id": "zTwMF6yJ0pCz"
      },
      "execution_count": null,
      "outputs": []
    },
    {
      "cell_type": "code",
      "source": [
        "# Define the file paths for the PDF files\n",
        "file_paths_raw = !ls corpus\n",
        "\n",
        "file_paths = []\n",
        "\n",
        "for file_path in file_paths_raw:\n",
        "  # Remove single quotes and any leading/trailing whitespace from file path\n",
        "  file_path = file_path.strip().replace(\"'\", \"\")\n",
        "  file_paths.append(f'/content/corpus/{file_path}')\n",
        "\n",
        "# Call the split_pdf_to_strings function for each PDF file\n",
        "text_list, title_list, page_list = splitPDFsToString(file_paths)"
      ],
      "metadata": {
        "id": "3oo3k_dQ0pIc",
        "colab": {
          "base_uri": "https://localhost:8080/"
        },
        "outputId": "5727d797-5ce1-4a4a-f2c2-adc04034be7c"
      },
      "execution_count": null,
      "outputs": [
        {
          "output_type": "stream",
          "name": "stderr",
          "text": [
            "100%|██████████| 1/1 [00:01<00:00,  1.03s/it]\n"
          ]
        }
      ]
    },
    {
      "cell_type": "markdown",
      "source": [
        "### 3. Models Import and Initialization"
      ],
      "metadata": {
        "id": "TP2IfKsQvzEF"
      }
    },
    {
      "cell_type": "code",
      "source": [
        "from google.colab import auth as google_auth\n",
        "google_auth.authenticate_user()"
      ],
      "metadata": {
        "id": "ycvZIIsZw2Wi"
      },
      "execution_count": null,
      "outputs": []
    },
    {
      "cell_type": "code",
      "source": [
        "PROJECT_ID = \"<provide your project id>\"  # @param {type:\"string\"}\n",
        "LOCATION = \"us-central1\"  # @param {type:\"string\"}"
      ],
      "metadata": {
        "id": "Hf62aY9Pw-PN"
      },
      "execution_count": null,
      "outputs": []
    },
    {
      "cell_type": "code",
      "source": [
        "from google.cloud import aiplatform\n",
        "from google.cloud.aiplatform.private_preview.language_models import TextGenerationModel, ChatModel\n",
        "#from google.cloud.aiplatform.private_preview.language_models import _TextEmbeddingModel as TextEmbeddingModel\n",
        "\n",
        "aiplatform.init(project=PROJECT_ID, location=LOCATION)\n",
        "model = TextGenerationModel.from_pretrained(\"text-bison-001\")\n",
        "#embedder = TextEmbeddingModel.from_pretrained(\"embedding-gecko-001\")"
      ],
      "metadata": {
        "id": "plTJWLcoxk_A"
      },
      "execution_count": null,
      "outputs": []
    },
    {
      "cell_type": "markdown",
      "source": [
        "### 4. Index Generation\n",
        "- Mapping each text chunk with it's corresponding embedding and file title."
      ],
      "metadata": {
        "id": "iBgNuzSEvqId"
      }
    },
    {
      "cell_type": "markdown",
      "source": [
        "Load the Universal Sentence Encoder's TF Hub module."
      ],
      "metadata": {
        "id": "gTDFgGYX2avG"
      }
    },
    {
      "cell_type": "code",
      "source": [
        "import tensorflow_hub as hub\n",
        "\n",
        "module_url = \"https://tfhub.dev/google/universal-sentence-encoder/4\" #@param [\"https://tfhub.dev/google/universal-sentence-encoder/4\", \"https://tfhub.dev/google/universal-sentence-encoder-large/5\"]\n",
        "embed = hub.load(module_url)\n",
        "print(\"module %s loaded\" % module_url)"
      ],
      "metadata": {
        "id": "h2q7ctQZ1eWw",
        "colab": {
          "base_uri": "https://localhost:8080/"
        },
        "outputId": "54bfddae-001a-4d04-b47a-5829630f976a"
      },
      "execution_count": null,
      "outputs": [
        {
          "output_type": "stream",
          "name": "stdout",
          "text": [
            "module https://tfhub.dev/google/universal-sentence-encoder/4 loaded\n"
          ]
        }
      ]
    },
    {
      "cell_type": "code",
      "source": [
        "import pandas as pd\n",
        "\n",
        "def createIndexDF(text_list, page_list, title_list, all_chunks=None, all_pages=None, all_urls=None):\n",
        "    # Create a new list that concatenates text_list and all_chunks\n",
        "    text_chunks = text_list.copy()\n",
        "    if all_chunks is not None:\n",
        "        text_chunks += all_chunks\n",
        "\n",
        "    # Create a new list that concatenates page_list and all_pages\n",
        "    page_nums = page_list.copy()\n",
        "    if all_pages is not None:\n",
        "        page_nums += all_pages\n",
        "\n",
        "    # Create a new list that concatenates title_list and all_urls\n",
        "    titles = title_list.copy()\n",
        "    if all_urls is not None:\n",
        "        titles += all_urls\n",
        "        titles = [titles.lstrip(\"/content/corpus/\").rstrip(\".pdf\") for titles in titles]\n",
        "\n",
        "    # Create a new dataframe with the combined lists\n",
        "    index_df = pd.DataFrame({'text_chunk': text_chunks,\n",
        "                             'page_num': page_nums,\n",
        "                             'title': titles})\n",
        "\n",
        "    # Calculate embeddings using the given 'embed' function\n",
        "    embeddings = []\n",
        "    for row in tqdm(index_df.text_chunk):\n",
        "        embedding = embed([row])\n",
        "        embeddings.append(embedding)\n",
        "    index_df['embedding'] = embeddings\n",
        "\n",
        "    return index_df"
      ],
      "metadata": {
        "id": "u7uyjsTdgAHv"
      },
      "execution_count": null,
      "outputs": []
    },
    {
      "cell_type": "code",
      "source": [
        "index_df = createIndexDF(text_list, page_list, title_list, all_chunks, all_pages, all_urls)\n",
        "index_df[5:10]"
      ],
      "metadata": {
        "id": "GH5dXyA226LD",
        "colab": {
          "base_uri": "https://localhost:8080/"
        },
        "outputId": "335bc4bb-979d-4c9d-9b67-b752bf08d837"
      },
      "execution_count": null,
      "outputs": [
        {
          "output_type": "stream",
          "name": "stderr",
          "text": [
            "100%|██████████| 64/64 [00:01<00:00, 59.65it/s]\n"
          ]
        },
        {
          "output_type": "execute_result",
          "data": {
            "text/plain": [
              "                                          text_chunk  page_num  \\\n",
              "5   1 TO OUR  POLICYHOLDER \\n \\nThis Automobile C...         5   \n",
              "6   2 Auto  – means a motor vehicle with four or ...         6   \n",
              "7   3 1. missiles or falling objects; \\n \\n2. fir...         7   \n",
              "8   4 you or a household member  or any other per...         8   \n",
              "9   5 Trailer  – means a vehicle designed to be p...         9   \n",
              "\n",
              "                    title                                          embedding  \n",
              "5  Sample-InsurancePolicy  ((tf.Tensor(-0.027879076, shape=(), dtype=floa...  \n",
              "6  Sample-InsurancePolicy  ((tf.Tensor(-0.027661495, shape=(), dtype=floa...  \n",
              "7  Sample-InsurancePolicy  ((tf.Tensor(-0.021275755, shape=(), dtype=floa...  \n",
              "8  Sample-InsurancePolicy  ((tf.Tensor(-0.03853473, shape=(), dtype=float...  \n",
              "9  Sample-InsurancePolicy  ((tf.Tensor(-0.059401114, shape=(), dtype=floa...  "
            ],
            "text/html": [
              "\n",
              "  <div id=\"df-a8291c9f-b3fc-4f33-86c0-260022715943\">\n",
              "    <div class=\"colab-df-container\">\n",
              "      <div>\n",
              "<style scoped>\n",
              "    .dataframe tbody tr th:only-of-type {\n",
              "        vertical-align: middle;\n",
              "    }\n",
              "\n",
              "    .dataframe tbody tr th {\n",
              "        vertical-align: top;\n",
              "    }\n",
              "\n",
              "    .dataframe thead th {\n",
              "        text-align: right;\n",
              "    }\n",
              "</style>\n",
              "<table border=\"1\" class=\"dataframe\">\n",
              "  <thead>\n",
              "    <tr style=\"text-align: right;\">\n",
              "      <th></th>\n",
              "      <th>text_chunk</th>\n",
              "      <th>page_num</th>\n",
              "      <th>title</th>\n",
              "      <th>embedding</th>\n",
              "    </tr>\n",
              "  </thead>\n",
              "  <tbody>\n",
              "    <tr>\n",
              "      <th>5</th>\n",
              "      <td>1 TO OUR  POLICYHOLDER \\n \\nThis Automobile C...</td>\n",
              "      <td>5</td>\n",
              "      <td>Sample-InsurancePolicy</td>\n",
              "      <td>((tf.Tensor(-0.027879076, shape=(), dtype=floa...</td>\n",
              "    </tr>\n",
              "    <tr>\n",
              "      <th>6</th>\n",
              "      <td>2 Auto  – means a motor vehicle with four or ...</td>\n",
              "      <td>6</td>\n",
              "      <td>Sample-InsurancePolicy</td>\n",
              "      <td>((tf.Tensor(-0.027661495, shape=(), dtype=floa...</td>\n",
              "    </tr>\n",
              "    <tr>\n",
              "      <th>7</th>\n",
              "      <td>3 1. missiles or falling objects; \\n \\n2. fir...</td>\n",
              "      <td>7</td>\n",
              "      <td>Sample-InsurancePolicy</td>\n",
              "      <td>((tf.Tensor(-0.021275755, shape=(), dtype=floa...</td>\n",
              "    </tr>\n",
              "    <tr>\n",
              "      <th>8</th>\n",
              "      <td>4 you or a household member  or any other per...</td>\n",
              "      <td>8</td>\n",
              "      <td>Sample-InsurancePolicy</td>\n",
              "      <td>((tf.Tensor(-0.03853473, shape=(), dtype=float...</td>\n",
              "    </tr>\n",
              "    <tr>\n",
              "      <th>9</th>\n",
              "      <td>5 Trailer  – means a vehicle designed to be p...</td>\n",
              "      <td>9</td>\n",
              "      <td>Sample-InsurancePolicy</td>\n",
              "      <td>((tf.Tensor(-0.059401114, shape=(), dtype=floa...</td>\n",
              "    </tr>\n",
              "  </tbody>\n",
              "</table>\n",
              "</div>\n",
              "      <button class=\"colab-df-convert\" onclick=\"convertToInteractive('df-a8291c9f-b3fc-4f33-86c0-260022715943')\"\n",
              "              title=\"Convert this dataframe to an interactive table.\"\n",
              "              style=\"display:none;\">\n",
              "        \n",
              "  <svg xmlns=\"http://www.w3.org/2000/svg\" height=\"24px\"viewBox=\"0 0 24 24\"\n",
              "       width=\"24px\">\n",
              "    <path d=\"M0 0h24v24H0V0z\" fill=\"none\"/>\n",
              "    <path d=\"M18.56 5.44l.94 2.06.94-2.06 2.06-.94-2.06-.94-.94-2.06-.94 2.06-2.06.94zm-11 1L8.5 8.5l.94-2.06 2.06-.94-2.06-.94L8.5 2.5l-.94 2.06-2.06.94zm10 10l.94 2.06.94-2.06 2.06-.94-2.06-.94-.94-2.06-.94 2.06-2.06.94z\"/><path d=\"M17.41 7.96l-1.37-1.37c-.4-.4-.92-.59-1.43-.59-.52 0-1.04.2-1.43.59L10.3 9.45l-7.72 7.72c-.78.78-.78 2.05 0 2.83L4 21.41c.39.39.9.59 1.41.59.51 0 1.02-.2 1.41-.59l7.78-7.78 2.81-2.81c.8-.78.8-2.07 0-2.86zM5.41 20L4 18.59l7.72-7.72 1.47 1.35L5.41 20z\"/>\n",
              "  </svg>\n",
              "      </button>\n",
              "      \n",
              "  \n",
              "    <div id=\"df-c4c9b92a-3bd8-492e-96de-39ef6f0fe962\">\n",
              "      <button class=\"colab-df-quickchart\" onclick=\"quickchart('df-c4c9b92a-3bd8-492e-96de-39ef6f0fe962')\"\n",
              "              title=\"Generate charts.\"\n",
              "              style=\"display:none;\">\n",
              "        \n",
              "  <svg xmlns=\"http://www.w3.org/2000/svg\" height=\"24px\"viewBox=\"0 0 24 24\"\n",
              "       width=\"24px\">\n",
              "      <g>\n",
              "          <path d=\"M19 3H5c-1.1 0-2 .9-2 2v14c0 1.1.9 2 2 2h14c1.1 0 2-.9 2-2V5c0-1.1-.9-2-2-2zM9 17H7v-7h2v7zm4 0h-2V7h2v10zm4 0h-2v-4h2v4z\"/>\n",
              "      </g>\n",
              "  </svg>\n",
              "      </button>\n",
              "    </div>\n",
              "    \n",
              "  <style>\n",
              "    .colab-df-quickchart {\n",
              "      background-color: #E8F0FE;\n",
              "      border: none;\n",
              "      border-radius: 50%;\n",
              "      cursor: pointer;\n",
              "      display: none;\n",
              "      fill: #1967D2;\n",
              "      height: 32px;\n",
              "      padding: 0 0 0 0;\n",
              "      width: 32px;\n",
              "    }\n",
              "\n",
              "    .colab-df-quickchart:hover {\n",
              "      background-color: #E2EBFA;\n",
              "      box-shadow: 0px 1px 2px rgba(60, 64, 67, 0.3), 0px 1px 3px 1px rgba(60, 64, 67, 0.15);\n",
              "      fill: #174EA6;\n",
              "    }\n",
              "\n",
              "    [theme=dark] .colab-df-quickchart {\n",
              "      background-color: #3B4455;\n",
              "      fill: #D2E3FC;\n",
              "    }\n",
              "\n",
              "    [theme=dark] .colab-df-quickchart:hover {\n",
              "      background-color: #434B5C;\n",
              "      box-shadow: 0px 1px 3px 1px rgba(0, 0, 0, 0.15);\n",
              "      filter: drop-shadow(0px 1px 2px rgba(0, 0, 0, 0.3));\n",
              "      fill: #FFFFFF;\n",
              "    }\n",
              "  </style>\n",
              "\n",
              "    <script>\n",
              "      const quickchartButtonEl =\n",
              "        document.querySelector('#df-c4c9b92a-3bd8-492e-96de-39ef6f0fe962 button.colab-df-quickchart');\n",
              "      quickchartButtonEl.style.display =\n",
              "        google.colab.kernel.accessAllowed ? 'block' : 'none';\n",
              "\n",
              "      async function quickchart(key) {\n",
              "        const containerElement = document.querySelector('#df-c4c9b92a-3bd8-492e-96de-39ef6f0fe962');\n",
              "        const charts = await google.colab.kernel.invokeFunction(\n",
              "            'generateCharts', [key], {});\n",
              "      }\n",
              "    </script>\n",
              "  <style>\n",
              "    .colab-df-container {\n",
              "      display:flex;\n",
              "      flex-wrap:wrap;\n",
              "      gap: 12px;\n",
              "    }\n",
              "\n",
              "    .colab-df-convert {\n",
              "      background-color: #E8F0FE;\n",
              "      border: none;\n",
              "      border-radius: 50%;\n",
              "      cursor: pointer;\n",
              "      display: none;\n",
              "      fill: #1967D2;\n",
              "      height: 32px;\n",
              "      padding: 0 0 0 0;\n",
              "      width: 32px;\n",
              "    }\n",
              "\n",
              "    .colab-df-convert:hover {\n",
              "      background-color: #E2EBFA;\n",
              "      box-shadow: 0px 1px 2px rgba(60, 64, 67, 0.3), 0px 1px 3px 1px rgba(60, 64, 67, 0.15);\n",
              "      fill: #174EA6;\n",
              "    }\n",
              "\n",
              "    [theme=dark] .colab-df-convert {\n",
              "      background-color: #3B4455;\n",
              "      fill: #D2E3FC;\n",
              "    }\n",
              "\n",
              "    [theme=dark] .colab-df-convert:hover {\n",
              "      background-color: #434B5C;\n",
              "      box-shadow: 0px 1px 3px 1px rgba(0, 0, 0, 0.15);\n",
              "      filter: drop-shadow(0px 1px 2px rgba(0, 0, 0, 0.3));\n",
              "      fill: #FFFFFF;\n",
              "    }\n",
              "  </style>\n",
              "\n",
              "      <script>\n",
              "        const buttonEl =\n",
              "          document.querySelector('#df-a8291c9f-b3fc-4f33-86c0-260022715943 button.colab-df-convert');\n",
              "        buttonEl.style.display =\n",
              "          google.colab.kernel.accessAllowed ? 'block' : 'none';\n",
              "\n",
              "        async function convertToInteractive(key) {\n",
              "          const element = document.querySelector('#df-a8291c9f-b3fc-4f33-86c0-260022715943');\n",
              "          const dataTable =\n",
              "            await google.colab.kernel.invokeFunction('convertToInteractive',\n",
              "                                                     [key], {});\n",
              "          if (!dataTable) return;\n",
              "\n",
              "          const docLinkHtml = 'Like what you see? Visit the ' +\n",
              "            '<a target=\"_blank\" href=https://colab.research.google.com/notebooks/data_table.ipynb>data table notebook</a>'\n",
              "            + ' to learn more about interactive tables.';\n",
              "          element.innerHTML = '';\n",
              "          dataTable['output_type'] = 'display_data';\n",
              "          await google.colab.output.renderOutput(dataTable, element);\n",
              "          const docLink = document.createElement('div');\n",
              "          docLink.innerHTML = docLinkHtml;\n",
              "          element.appendChild(docLink);\n",
              "        }\n",
              "      </script>\n",
              "    </div>\n",
              "  </div>\n",
              "  "
            ]
          },
          "metadata": {},
          "execution_count": 14
        }
      ]
    },
    {
      "cell_type": "markdown",
      "source": [
        "### 5. Testing answers with hardcoded contexts"
      ],
      "metadata": {
        "id": "STOuFsKGwO2p"
      }
    },
    {
      "cell_type": "code",
      "source": [
        "CONTEXT = \"\"\"\n",
        "Given the following balance sheet\n",
        "CONSOLIDATED BALANCE SHEETS\n",
        "As at\n",
        "December 31, December 31,\n",
        "In million of U.S. dollars 2021 2020\n",
        "Assets\n",
        "Current assets:\n",
        "Cash and cash equivalents 3,225 3,006\n",
        "Short-term deposits 291 581\n",
        "Marketable securities — 133\n",
        "Trade accounts receivable, net 1,759 1,465\n",
        "Inventories 1,972 1,841\n",
        "Other current assets 581 584\n",
        "Total current assets 7,828 7,610\n",
        "Goodwill 313 330\n",
        "Other intangible assets, net 438 445\n",
        "Property, plant and equipment, net 5,660 4,596\n",
        "Non-current deferred tax assets 652 739\n",
        "Long-term investments 10 10\n",
        "Other non-current assets 639 724\n",
        "7,712 6,844\n",
        "Total assets 15,540 14,454\n",
        "Liabilities and equity\n",
        "Current liabilities:\n",
        "Short-term debt 143 795\n",
        "Trade accounts payable 1,582 1,166\n",
        "Other payables and accrued liabilities 1,101 966\n",
        "Dividends payable to stockholders 55 42\n",
        "Accrued income tax 68 84\n",
        "Total current liabilities 2,949 3,053\n",
        "Long-term debt 2,396 1,826\n",
        "Post-employment benefit obligations 442 506\n",
        "Long-term deferred tax liabilities 64 75\n",
        "Other long-term liabilities 416 488\n",
        "3,318 2,895\n",
        "Total liabilities 6,267 5,948\n",
        "Commitment and contingencies\n",
        "Equity\n",
        "Parent company stockholders' equity\n",
        "Common stock (preferred stock: 540,000,000 shares authorized, not issued;\n",
        " common stock: Euro 1.04 par value, 1,200,000,000 shares authorized,\n",
        " 911,276,920 shares issued, 906,518,057 shares outstanding) 1,157 1,157\n",
        "Additional paid-in capital 2,533 3,062\n",
        "Retained earnings 5,223 3,599\n",
        "Accumulated other comprehensive income 496 723\n",
        "Treasury stock (200) (93)\n",
        "Total parent company stockholders' equity 9,209 8,448\n",
        "Noncontrolling interest 64 58\n",
        "Total equity 9,273 8,506\n",
        "Total liabilities and equity 15,540 14,454\n",
        "The accompanying notes are an integral part of these audited consolidated financial statements\n",
        "\n",
        "and income statement\n",
        "Twelve months ended\n",
        "December 31, December 31, December 31,\n",
        "In million of U.S. dollars except per share amounts 2021 2020 2019\n",
        "Net sales 12,729 10,181 9,529\n",
        "Other revenues 32 38 27\n",
        "Net revenues 12,761 10,219 9,556\n",
        "Cost of sales (7,435) (6,430) (5,860)\n",
        "Gross profit 5,326 3,789 3,696\n",
        "Selling, general and administrative (1,323) (1,109) (1,093)\n",
        "Research and development (1,723) (1,548) (1,498)\n",
        "Other income and expenses, net 141 202 103\n",
        "Impairment, restructuring charges and other related closure\n",
        " costs (2) (11) (5)\n",
        "Operating income 2,419 1,323 1,203\n",
        "Interest income (expense), net (29) (20) 1\n",
        "Other components of pension benefit costs (10) (12) (16)\n",
        "Income (loss) on equity-method investments — 2 1\n",
        "Loss on financial instruments, net (43) (26) —\n",
        "Income before income taxes and noncontrolling interest 2,337 1,267 1,189\n",
        "Income tax expense (331) (159) (156)\n",
        "Net income 2,006 1,108 1,033\n",
        "Net income attributable to noncontrolling interest (6) (2) (1)\n",
        "Net income attributable to parent company stockholders 2,000 1,106 1,032\n",
        "Earnings per share (Basic) attributable to parent company\n",
        " stockholders 2.21 1.24 1.15\n",
        "Earnings per share (Diluted) attributable to parent\n",
        " company stockholders 2.16 1.20 1.14\n",
        "\"\"\""
      ],
      "metadata": {
        "id": "Bi5Z-9_0zBtg"
      },
      "execution_count": null,
      "outputs": []
    },
    {
      "cell_type": "code",
      "source": [
        "QUESTION = \"Calculate the return on net assets using the following equation  Net Income/(Fixed Assets + Working Capital) for 2021\"  # @param {type:\"string\"}"
      ],
      "metadata": {
        "id": "GI8r9Neyyedf"
      },
      "execution_count": null,
      "outputs": []
    },
    {
      "cell_type": "code",
      "source": [
        "PROMPT = f\"\"\"\n",
        "Based on the following context:\n",
        "{CONTEXT}.\n",
        "\n",
        "\n",
        "Please answer the question below only using information from the context provided:\n",
        "{QUESTION}.\n",
        "\n",
        "\"\"\"\n",
        "\n",
        "model.predict(\n",
        "    PROMPT,\n",
        "    max_output_tokens=1000,\n",
        "    temperature=0,\n",
        "    top_p=1,\n",
        "    top_k=40,\n",
        ")"
      ],
      "metadata": {
        "id": "4Q4_Fe2qyA9d",
        "colab": {
          "base_uri": "https://localhost:8080/"
        },
        "outputId": "d78769db-005c-4ae3-9c86-ce092bd1ad11"
      },
      "execution_count": null,
      "outputs": [
        {
          "output_type": "execute_result",
          "data": {
            "text/plain": [
              "The return on net assets for 2021 is 12.6%.\n",
              "\n",
              "The return on net assets is calculated by dividing net income by the sum of fixed assets and working capital. In this case, net income is 2,006 million, fixed assets are 7,712 million, and working capital is 7,828 million. Therefore, the return on net assets is 2,006 / (7,712 + 7,828) = 12.6%."
            ]
          },
          "metadata": {},
          "execution_count": 17
        }
      ]
    },
    {
      "cell_type": "markdown",
      "source": [
        "### 6. Retrieving the closest n contexts for a given question"
      ],
      "metadata": {
        "id": "l50i9H7NwUde"
      }
    },
    {
      "cell_type": "code",
      "source": [
        "from sklearn.metrics.pairwise import cosine_similarity\n",
        "import numpy as np\n",
        "\n",
        "def mostSimilarContexts(QUESTION, INDEX, AMOUNT_OF_CONTEXTS = 3):\n",
        "  # Generate the embedding of the provided question.\n",
        "  embedding_question = embed([QUESTION])\n",
        "\n",
        "  similarities = []\n",
        "  top_results_titles = []\n",
        "  top_results_pagenums = []\n",
        "\n",
        "  # Calculate cosine similarities between the question and the contexts.\n",
        "  for embedding in INDEX[\"embedding\"].tolist():\n",
        "    similarity = cosine_similarity(embedding_question, embedding)[0][0]\n",
        "    similarities.append(similarity)\n",
        "\n",
        "  similarities = np.array(similarities)\n",
        "  # Get indices of top n results\n",
        "  top_results_indices = similarities.argsort()[::-1][:AMOUNT_OF_CONTEXTS]\n",
        "\n",
        "\n",
        "  # Concatenate top 5 results into a string\n",
        "  top_results = \" \".join(INDEX.iloc[top_results_indices][\"text_chunk\"].tolist())\n",
        "  top_results_titles = INDEX.iloc[top_results_indices][\"title\"].tolist()\n",
        "  top_results_pagenums = INDEX.iloc[top_results_indices][\"page_num\"].tolist()\n",
        "\n",
        "  return top_results, top_results_titles, top_results_pagenums"
      ],
      "metadata": {
        "id": "BzmK3rEpk32H"
      },
      "execution_count": null,
      "outputs": []
    },
    {
      "cell_type": "code",
      "source": [
        "QUESTION = \"When and where the policy applies?\"\n",
        "top_contexts, titles, pagenums = mostSimilarContexts(QUESTION, index_df)\n",
        "print(top_contexts)"
      ],
      "metadata": {
        "id": "nFkfUiN7om6-",
        "colab": {
          "base_uri": "https://localhost:8080/"
        },
        "outputId": "b5fb835d-fa94-4ae4-a7f4-32943e5d2dcf"
      },
      "execution_count": null,
      "outputs": [
        {
          "output_type": "stream",
          "name": "stdout",
          "text": [
            " 522. Under PARTS II, III, IV and V, until 30 days \n",
            "after written proof of loss is filed and the \n",
            "amount of loss is determined. \n",
            " \n",
            "No one has the right to bring us into a suit to \n",
            "determine the liability of an insured.  \n",
            "TERMINATION \n",
            " \n",
            "1. Cancellation by You \n",
            " \n",
            " You may cancel by: \n",
            " a. returning this policy to us; or \n",
            " b. giving us advance notice of the date \n",
            "cancellation is to take effect. \n",
            " 2. Cancellation by Us \n",
            " \n",
            " We may cancel by mailing to you at the last \n",
            "address known by us: \n",
            " a. at least 10 days notice: \n",
            "  (1) if cancellation is for nonpayment of \n",
            "premium; or \n",
            "  (2) if notice is mailed during the first 60 \n",
            "days this policy is in effect and this is \n",
            "not a renewal or continuation policy; \n",
            " b. at least 30 days notice in all other cases. \n",
            " \n",
            " After this policy is in effect for 60 days, or if this \n",
            "is a renewal or continuation policy, we will \n",
            "cancel only: \n",
            " a. for nonpayment of premium; or \n",
            " b. if your  driver’s license has been \n",
            "suspended or revoked. \n",
            "  This must have occurred:   (1) during the policy period; or \n",
            "  (2) since the last anniversary of the \n",
            "original effective date if the policy \n",
            "period is other than 1 year. \n",
            "   However, in the event more than one \n",
            "person  is a named insured shown in the \n",
            "declarations page and only one named \n",
            "person ’s driver’s license has been \n",
            "suspended or revoked we: \n",
            "  (1) may not cancel this policy; but \n",
            "SAMPLE DOCUMENT  56during the policy period, and you must answer \n",
            "questions we ask regarding the following: \n",
            " \n",
            "1. your insured auto , or its use, including annual \n",
            "mileage; \n",
            " 2. the persons  who regularly drive your insured \n",
            "auto , including any newly licensed household \n",
            "members ; \n",
            " \n",
            "3. your  marital status; or \n",
            " 4. the location where your insured auto  is \n",
            "primarily garaged. \n",
            " \n",
            "If the above information or any other information used \n",
            "to determine the premium is incorrect, incomplete, \n",
            "changes during the policy period, or is not provided to us when we ask, then we may decrease or increase \n",
            "the premium during the policy period. \n",
            " If any transaction results in a premium decrease, a \n",
            "refund will: \n",
            " 1. be mailed to you if your  premium is paid in full; \n",
            "or \n",
            " 2. applied to your  outstanding balance. \n",
            " If we increase the premium during the policy period, \n",
            "then you must pay the amount of the increase. \n",
            " \n",
            " \n",
            " \n",
            " \n",
            " \n",
            " \n",
            " \n",
            " \n",
            "  Secretar y\n",
            "President\n",
            "SAMPLE DOCUMENT  54making or offering to make a refund is not \n",
            "a condition of cancellation. \n",
            " b. If you cancel during the first policy period \n",
            "(first six months), the earned premium will be computed on a pro rata basis plus a \n",
            "10% cancellation penalty. The 10% \n",
            "cancellation penalty will be computed on the unearned premium. If cancellation is for \n",
            "non-payment of premium, you have \n",
            "cancelled the Policy. If you cancel at any \n",
            "other time, the premium for the period from the date of cancellation to the expiration \n",
            "date will be refunded on a pro rata basis. \n",
            " c. If we cancel, the refund will be calculated \n",
            "on a pro rata basis. \n",
            " d. The effective date of cancellation stated in \n",
            "the notice shall become the end of the policy period. \n",
            " TERMS OF POLICY CONFORMED TO STATUTE \n",
            " \n",
            "Terms of this policy which are in conflict with the \n",
            "statutes of the State of  Missouri are hereby amended \n",
            "to conform to such statutes. \n",
            " TRANSFER OR ASSIGNMENT \n",
            " \n",
            "1. This policy or any interests in it may not be \n",
            "assigned without our written permission. \n",
            " 2. If you should die, your  interests in this policy \n",
            "will transfer to your  legal representative while \n",
            "acting within the scope of his or her duties. \n",
            "Until such appointment, any person  having \n",
            "proper temporary custody of your insured \n",
            "auto  will be covered as an insured under the \n",
            "policy, contingent upon payment of the \n",
            "premium. \n",
            " \n",
            " Coverage under this provision will only be \n",
            "provided until the end of the policy period \n",
            "during which the death occurred. However, if \n",
            "the death occurred after we offered to renew \n",
            "this policy, we will continue coverage until the \n",
            "end of the policy period for which we offered \n",
            "SAMPLE DOCUMENT\n"
          ]
        }
      ]
    },
    {
      "cell_type": "markdown",
      "source": [
        "### 7. Putting it all together :)\n"
      ],
      "metadata": {
        "id": "ELn0QTCZwcri"
      }
    },
    {
      "cell_type": "code",
      "source": [
        "QUESTION = \"When and where the policy applies\" #\"What regions does Infineon operate in?\"  # @param {type:\"string\"}"
      ],
      "metadata": {
        "id": "uLmR2XLkukqX"
      },
      "execution_count": null,
      "outputs": []
    },
    {
      "cell_type": "code",
      "source": [
        "CONTEXT, TITLES, PAGES = mostSimilarContexts(QUESTION, index_df)\n",
        "SOURCES = {\"Titles\": TITLES, \"Pages\": PAGES}\n",
        "\n",
        "PROMPT = f\"\"\"\n",
        "\n",
        "Based only on the following information:\n",
        "{CONTEXT}.\n",
        "\n",
        "Answer the question below:\n",
        "{QUESTION}.\n",
        "\n",
        "Don't assume anything, If you are not sure then answer that you don't have enough information.\n",
        "Answer what's important. Be concise.\n",
        "\"\"\"\n",
        "\n",
        "#Surround by this '\\033[32m \\033[0m' the most important parts of the text to highlight them.\n",
        "#For example: \\033[32mIMPORTANT PART OF THE ANSWER\\033[0m\n",
        "\n",
        "endpoint = aiplatform.Endpoint('projects/801452371447/locations/us-central1/endpoints/5781438847032229888')\n",
        "\n",
        "tuned_model_name=endpoint.name\n",
        "tuned_nj_model = TextGenerationModel.get_tuned_model(tuned_model_name)\n",
        "\n",
        "\n",
        "ANSWER = model.predict(\n",
        "          PROMPT,\n",
        "          max_output_tokens=1000,\n",
        "          temperature=0,\n",
        "          top_p=1,\n",
        "          top_k=40,\n",
        "      )"
      ],
      "metadata": {
        "id": "YsDV862Vvb39"
      },
      "execution_count": null,
      "outputs": []
    },
    {
      "cell_type": "code",
      "source": [
        "print(\"\\033[1m\\033[38;2;70;130;180mQuestion:\\033[0m\")\n",
        "print(QUESTION)\n",
        "print(\"\")\n",
        "print(\"\\033[1m\\033[38;2;70;130;180mSources:\\033[0m\")\n",
        "for title, page in zip(SOURCES[\"Titles\"], SOURCES[\"Pages\"]):\n",
        "    print(f\"\\033[1mTitle:\\033[0m \\033[32m{title}\\033[0m, \\033[1mPage:\\033[0m \\033[32m{page}\\033[0m\")\n",
        "print(\"\")\n",
        "print(\"\\033[1m\\033[38;2;70;130;180mAnswer:\\033[0m\")\n",
        "ANSWER"
      ],
      "metadata": {
        "id": "9QbOoQdVu4u6",
        "colab": {
          "base_uri": "https://localhost:8080/"
        },
        "outputId": "c118295a-2631-464f-c0bc-0e6dc8fa087e"
      },
      "execution_count": null,
      "outputs": [
        {
          "output_type": "stream",
          "name": "stdout",
          "text": [
            "\u001b[1m\u001b[38;2;70;130;180mQuestion:\u001b[0m\n",
            "When and where the policy applies\n",
            "\n",
            "\u001b[1m\u001b[38;2;70;130;180mSources:\u001b[0m\n",
            "\u001b[1mTitle:\u001b[0m \u001b[32mSample-InsurancePolicy\u001b[0m, \u001b[1mPage:\u001b[0m \u001b[32m56\u001b[0m\n",
            "\u001b[1mTitle:\u001b[0m \u001b[32mSample-InsurancePolicy\u001b[0m, \u001b[1mPage:\u001b[0m \u001b[32m60\u001b[0m\n",
            "\u001b[1mTitle:\u001b[0m \u001b[32mSample-InsurancePolicy\u001b[0m, \u001b[1mPage:\u001b[0m \u001b[32m58\u001b[0m\n",
            "\n",
            "\u001b[1m\u001b[38;2;70;130;180mAnswer:\u001b[0m\n"
          ]
        },
        {
          "output_type": "execute_result",
          "data": {
            "text/plain": [
              "The policy applies during the policy period, which is the period of time that the policy is in effect. The policy period begins on the effective date and ends on the expiration date. The effective date is the date that the policy is issued, and the expiration date is the date that the policy expires. The policy applies to the insured auto, which is the auto that is listed on the declarations page of the policy. The policy also applies to the insured person, who is the person who is listed on the declarations page of the policy."
            ]
          },
          "metadata": {},
          "execution_count": 22
        }
      ]
    },
    {
      "cell_type": "markdown",
      "source": [
        "### 8. Intuitive UI for Demo."
      ],
      "metadata": {
        "id": "_WOjceGmOyb-"
      }
    },
    {
      "cell_type": "code",
      "source": [
        "! pip install gradio"
      ],
      "metadata": {
        "id": "LwkYmyuzKAgW"
      },
      "execution_count": null,
      "outputs": []
    },
    {
      "cell_type": "code",
      "source": [
        "import gradio as gr\n",
        "import warnings\n",
        "\n",
        "def qa_interface(question, temperature, top_p, max_output_tokens, top_k):\n",
        "    QUESTION = question\n",
        "    CONTEXT, TITLES, PAGES = mostSimilarContexts(QUESTION, index_df)\n",
        "    SOURCES = {\"Titles\": TITLES, \"Pages\": PAGES}\n",
        "\n",
        "    PROMPT = f\"\"\"\n",
        "\n",
        "    Based only on the following information:\n",
        "    {CONTEXT}.\n",
        "\n",
        "\n",
        "    Answer the question below:\n",
        "    {QUESTION}.\n",
        "\n",
        "    Don't assume anything, If you are not sure then answer that you don't have enough information.\n",
        "    Answer what's important. Be concise.\n",
        "    \"\"\"\n",
        "\n",
        "    ANSWER = model.predict(\n",
        "          PROMPT,\n",
        "          max_output_tokens=max_output_tokens,\n",
        "          temperature=temperature,\n",
        "          top_p=top_p,\n",
        "          top_k=top_k,\n",
        "      )\n",
        "    ANSWER_2 = model.predict(\n",
        "          PROMPT,\n",
        "          max_output_tokens=max_output_tokens,\n",
        "          temperature=temperature,\n",
        "          top_p=top_p,\n",
        "          top_k=top_k,\n",
        "      )\n",
        "    SOURCES_DF = pd.DataFrame(SOURCES)\n",
        "\n",
        "    return ANSWER, ANSWER_2, SOURCES_DF\n",
        "\n",
        "iface = gr.Interface(fn=qa_interface,\n",
        "                     inputs=[\n",
        "                         gr.inputs.Textbox(label=\"Question\")\n",
        "                         , gr.Slider(0, 1, 0.3)\n",
        "                         , gr.Slider(0, 1, 1)\n",
        "                         , gr.Slider(0, 1024, 700)\n",
        "                         , gr.Slider(0, 40, 40)\n",
        "                         ],\n",
        "                     outputs=[\n",
        "                         gr.Textbox(label=\"Answer 1\"),\n",
        "                         gr.Textbox(label=\"Answer 2\"),\n",
        "                         gr.Dataframe(headers = ['Title', 'Page'], label=\"Sources\")\n",
        "                          ],\n",
        "                     title=\"Intra-Knowledge Q&A\",\n",
        "                     description=\"Enter a question and get two possible answers from the PDF and HTML files.\",\n",
        "                     allow_flagging=False,\n",
        "                     theme=gr.themes.Soft()\n",
        "                     )\n",
        "\n",
        "iface.launch(share=True)"
      ],
      "metadata": {
        "id": "AuMgfDC5YOzE",
        "colab": {
          "base_uri": "https://localhost:8080/",
          "height": 768
        },
        "outputId": "8513373f-b800-4e7d-b084-1d3a2dbe4a41"
      },
      "execution_count": null,
      "outputs": [
        {
          "output_type": "stream",
          "name": "stderr",
          "text": [
            "/usr/local/lib/python3.10/dist-packages/gradio/inputs.py:27: UserWarning: Usage of gradio.inputs is deprecated, and will not be supported in the future, please import your component from gradio.components\n",
            "  warnings.warn(\n",
            "/usr/local/lib/python3.10/dist-packages/gradio/inputs.py:30: UserWarning: `optional` parameter is deprecated, and it has no effect\n",
            "  super().__init__(\n",
            "/usr/local/lib/python3.10/dist-packages/gradio/inputs.py:30: UserWarning: `numeric` parameter is deprecated, and it has no effect\n",
            "  super().__init__(\n",
            "/usr/local/lib/python3.10/dist-packages/gradio/interface.py:323: UserWarning: The `allow_flagging` parameter in `Interface` nowtakes a string value ('auto', 'manual', or 'never'), not a boolean. Setting parameter to: 'never'.\n",
            "  warnings.warn(\n"
          ]
        },
        {
          "output_type": "stream",
          "name": "stdout",
          "text": [
            "Colab notebook detected. To show errors in colab notebook, set debug=True in launch()\n",
            "Running on public URL: https://8fb9b1fb85e84c10e5.gradio.live\n",
            "\n",
            "This share link expires in 72 hours. For free permanent hosting and GPU upgrades (NEW!), check out Spaces: https://huggingface.co/spaces\n"
          ]
        },
        {
          "output_type": "display_data",
          "data": {
            "text/plain": [
              "<IPython.core.display.HTML object>"
            ],
            "text/html": [
              "<div><iframe src=\"https://8fb9b1fb85e84c10e5.gradio.live\" width=\"100%\" height=\"500\" allow=\"autoplay; camera; microphone; clipboard-read; clipboard-write;\" frameborder=\"0\" allowfullscreen></iframe></div>"
            ]
          },
          "metadata": {}
        },
        {
          "output_type": "execute_result",
          "data": {
            "text/plain": []
          },
          "metadata": {},
          "execution_count": 24
        }
      ]
    }
  ]
}
