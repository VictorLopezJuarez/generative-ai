{
  "nbformat": 4,
  "nbformat_minor": 0,
  "metadata": {
    "colab": {
      "provenance": [],
      "collapsed_sections": [
        "fT-PEIcts5iq"
      ]
    },
    "kernelspec": {
      "name": "python3",
      "display_name": "Python 3"
    },
    "language_info": {
      "name": "python"
    }
  },
  "cells": [
    {
      "cell_type": "markdown",
      "source": [
        "##Text\n"
      ],
      "metadata": {
        "id": "fT-PEIcts5iq"
      }
    },
    {
      "cell_type": "markdown",
      "source": [
        "https://cloud.google.com/vertex-ai/docs/generative-ai/models/tune-models\n",
        "\n",
        "\n",
        "https://github.com/GoogleCloudPlatform/python-docs-samples/tree/ecd48fab644676be7bcf86d2ffd8ead58b8f0e3f/generative_ai\n"
      ],
      "metadata": {
        "id": "9nQhqZVWPSOQ"
      }
    },
    {
      "cell_type": "markdown",
      "source": [
        "# Installing the package"
      ],
      "metadata": {
        "id": "40xdBGbjFoeG"
      }
    },
    {
      "cell_type": "code",
      "source": [
        "!pip install google-cloud-aiplatform --upgrade --user --quiet"
      ],
      "metadata": {
        "id": "i5lKqVT_On34"
      },
      "execution_count": 10,
      "outputs": []
    },
    {
      "cell_type": "markdown",
      "source": [
        "# ! ^^^^ Do not forget to click the \"Restart runtime\" button above."
      ],
      "metadata": {
        "id": "g3jhntJ0KUzq"
      }
    },
    {
      "cell_type": "code",
      "execution_count": 1,
      "metadata": {
        "id": "GWcy9oGzEXXJ"
      },
      "outputs": [],
      "source": [
        "from google.colab import auth as google_auth\n",
        "google_auth.authenticate_user()"
      ]
    },
    {
      "cell_type": "code",
      "source": [
        "PROJECT_ID = \"<Enter-your-project-id>\" # @param {type:\"string\"}\n",
        "LOCATION = \"us-central1\"  # @param {type:\"string\"}"
      ],
      "metadata": {
        "id": "PquoDfoXFV3J"
      },
      "execution_count": 2,
      "outputs": []
    },
    {
      "cell_type": "code",
      "source": [
        "from google.cloud import aiplatform\n",
        "aiplatform.init(project=PROJECT_ID, location=LOCATION)"
      ],
      "metadata": {
        "id": "W-XFFz0BP6vw"
      },
      "execution_count": 3,
      "outputs": []
    },
    {
      "cell_type": "markdown",
      "source": [
        "# Basic Example"
      ],
      "metadata": {
        "id": "mOabLACbseoE"
      }
    },
    {
      "cell_type": "code",
      "source": [
        "from vertexai.preview.language_models import TextGenerationModel, TextEmbeddingModel\n",
        "model = TextGenerationModel.from_pretrained(\"text-bison@001\")\n",
        "\n",
        "\n",
        "\n",
        "response1 = model.predict(\n",
        "      '''\n",
        "         Explain the theory of relativity in simple terms.\n",
        "\n",
        "      ''',\n",
        "    temperature=0.2,\n",
        "    max_output_tokens=256,\n",
        "    top_k=40,\n",
        "    top_p=.95)\n",
        "\n",
        "print(response1)"
      ],
      "metadata": {
        "id": "XmnFXfnhJ9K-",
        "colab": {
          "base_uri": "https://localhost:8080/"
        },
        "outputId": "bb29c466-6874-47ae-f3cc-60f5df69da26"
      },
      "execution_count": 4,
      "outputs": [
        {
          "output_type": "stream",
          "name": "stdout",
          "text": [
            "The theory of relativity is a theory of gravity that was developed by Albert Einstein in the early 20th century. It is based on the idea that space and time are not absolute, but are relative to the observer. This means that the laws of physics are the same for all observers, regardless of their motion.\n",
            "\n",
            "       The theory of relativity has two main parts: special relativity and general relativity. Special relativity deals with the relationship between space and time, and how it is affected by the motion of objects. General relativity deals with the relationship between gravity and the curvature of spacetime.\n",
            "\n",
            "       Special relativity has a number of implications, including the fact that nothing can travel faster than the speed of light, and that mass and energy are equivalent. General relativity has a number of implications as well, including the fact that gravity is not a force, but is instead a curvature of spacetime.\n",
            "\n",
            "       The theory of relativity has been very successful in explaining a wide range of phenomena, including the motion of planets and stars, the behavior of black holes, and the expansion of the universe. It is one of the most important and successful theories in physics.\n"
          ]
        }
      ]
    },
    {
      "cell_type": "code",
      "source": [
        "\n",
        "response2 = model.predict(\n",
        "      '''\n",
        "         Explain the theory of relativity in simple terms. Follow this format:\n",
        "         Scientist:\n",
        "         Year of Theory:\n",
        "         Synopsis:\n",
        "      ''',\n",
        "    temperature=0.2,\n",
        "    max_output_tokens=256,\n",
        "    top_k=40,\n",
        "    top_p=.95)\n",
        "\n",
        "print(response2)"
      ],
      "metadata": {
        "colab": {
          "base_uri": "https://localhost:8080/"
        },
        "id": "rvkyAPKGLkyJ",
        "outputId": "ea64952c-049f-42e8-b91e-d7a0209acf97"
      },
      "execution_count": 5,
      "outputs": [
        {
          "output_type": "stream",
          "name": "stdout",
          "text": [
            "Scientist: Albert Einstein\n",
            "       Year of Theory: 1905\n",
            "       Synopsis:\n",
            "       The theory of relativity is a theory of gravity that was developed by Albert Einstein in the early 20th century. It is based on the idea that space and time are not absolute, but are relative to the observer. This means that the laws of physics are the same for all observers, regardless of their motion.\n",
            "\n",
            "The theory of relativity has two main parts: special relativity and general relativity. Special relativity deals with the relationship between space and time, and how it is affected by the motion of objects. General relativity deals with the relationship between gravity and the curvature of spacetime.\n",
            "\n",
            "Special relativity has a number of important consequences, including the fact that nothing can travel faster than the speed of light. General relativity has a number of important consequences as well, including the fact that gravity is not a force, but is instead a curvature of spacetime.\n",
            "\n",
            "The theory of relativity has had a profound impact on our understanding of the universe. It has led to the development of new technologies, such as GPS, and has helped us to understand the nature of black holes and other astronomical objects.\n"
          ]
        }
      ]
    },
    {
      "cell_type": "code",
      "source": [
        "\n",
        "response2 = model.predict(\n",
        "      '''\n",
        "         Explain the theory of relativity in simple terms. Follow this format:\n",
        "         Scientist:\n",
        "         Year of Theory:\n",
        "         Synopsis in 50 words:\n",
        "      ''',\n",
        "    temperature=0.2,\n",
        "    max_output_tokens=256,\n",
        "    top_k=40,\n",
        "    top_p=.95)\n",
        "\n",
        "print(response2)"
      ],
      "metadata": {
        "colab": {
          "base_uri": "https://localhost:8080/"
        },
        "id": "E6mPqhbaLhb5",
        "outputId": "11e4fe61-b209-41e4-81a1-c5f7b9aa1647"
      },
      "execution_count": 6,
      "outputs": [
        {
          "output_type": "stream",
          "name": "stdout",
          "text": [
            "Scientist: Albert Einstein\n",
            "       Year of Theory: 1905\n",
            "       Synopsis: The theory of relativity is a theory of gravity that was developed by Albert Einstein in the early 20th century. It is based on the idea that space and time are not absolute, but are relative to the observer. This means that the laws of physics are the same for all observers, regardless of their motion. The theory of relativity has two main parts: special relativity and general relativity. Special relativity deals with the relationship between space and time, and how it is affected by the motion of objects. General relativity deals with the relationship between gravity and the curvature of spacetime.\n"
          ]
        }
      ]
    }
  ]
}